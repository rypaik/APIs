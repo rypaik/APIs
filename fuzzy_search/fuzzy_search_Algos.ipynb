{
 "cells": [
  {
   "cell_type": "code",
   "execution_count": 19,
   "metadata": {},
   "outputs": [],
   "source": [
    "import pandas as pd\n",
    "import numpy as np\n",
    "from timeit import default_timer as timer\n",
    "from functools import wraps\n",
    "import ipywidgets as widgets\n",
    "\n",
    "def print_timing(f):\n",
    "    @wraps(f)\n",
    "    def inner(*args, **kwargs):\n",
    "        t0 = timer()\n",
    "        try:\n",
    "            return f(*args, **kwargs)\n",
    "        finally:\n",
    "            print(f\"\\n{f.__name__} finished in {1e3*(timer()-t0):.1f} ms\")\n",
    "    return inner"
   ]
  },
  {
   "cell_type": "code",
   "execution_count": 20,
   "metadata": {},
   "outputs": [],
   "source": [
    "\n",
    "\n",
    "from fuzzywuzzy import fuzz as fuzzywuzzy_fuzz, process as fuzzywuzzy_process\n",
    "from rapidfuzz import fuzz as rapidfuzz_fuzz, process as rapidfuzz_process\n",
    "import Levenshtein"
   ]
  },
  {
   "cell_type": "code",
   "execution_count": 21,
   "metadata": {},
   "outputs": [
    {
     "data": {
      "application/vnd.jupyter.widget-view+json": {
       "model_id": "020ab7d637674a0cbbc9fc3540e38521",
       "version_major": 2,
       "version_minor": 0
      },
      "text/plain": [
       "interactive(children=(Text(value='', description='input_text'), Output()), _dom_classes=('widget-interact',))"
      ]
     },
     "metadata": {},
     "output_type": "display_data"
    }
   ],
   "source": [
    "\n",
    "\n",
    "#   You can download this dataset here:\n",
    "#   https://geoportal.statistics.gov.uk/datasets/a6c138d17ac54532b0ca8ee693922f10_0\n",
    "\n",
    "df = pd.read_csv(\"Index_of_Place_Names_in_Great_Britain_(July_2016).csv\")\n",
    "cities = df[\"place15nm\"].unique()\n",
    "\n",
    "@print_timing\n",
    "def interact_cities(input_text):\n",
    "    if not input_text: return\n",
    "    for city, score, _ in rapidfuzz_process.extract(input_text, cities, limit=10):\n",
    "        print(f\"{city:60}{score:3.2f}\")\n",
    "\n",
    "widgets.interact(interact_cities, input_text=\"\");\n",
    "\n"
   ]
  },
  {
   "cell_type": "code",
   "execution_count": 22,
   "metadata": {},
   "outputs": [
    {
     "data": {
      "text/plain": [
       "93"
      ]
     },
     "execution_count": 22,
     "metadata": {},
     "output_type": "execute_result"
    }
   ],
   "source": [
    "fuzzywuzzy_fuzz.ratio(\"Tokyo and Osaka\", \"Tokio and Osaka\")"
   ]
  },
  {
   "cell_type": "code",
   "execution_count": 23,
   "metadata": {},
   "outputs": [
    {
     "data": {
      "text/plain": [
       "[('knight', 83), ('nigh', 80), ('knighthood', 75), ('knuth', 73), ('the', 72)]"
      ]
     },
     "execution_count": 23,
     "metadata": {},
     "output_type": "execute_result"
    }
   ],
   "source": [
    "\n",
    "\n",
    "words = [\"knight\", \"knuth\", \"nigh\", \"ignite\", \"knighthood\", \"knead\", \"the\"]\n",
    "fuzzywuzzy_process.extract(\"knigth\", words)\n",
    "\n"
   ]
  },
  {
   "cell_type": "markdown",
   "metadata": {},
   "source": [
    "Search Algos and How they work with"
   ]
  },
  {
   "cell_type": "code",
   "execution_count": 24,
   "metadata": {},
   "outputs": [
    {
     "data": {
      "text/plain": [
       "90"
      ]
     },
     "execution_count": 24,
     "metadata": {},
     "output_type": "execute_result"
    }
   ],
   "source": [
    "fuzzywuzzy_fuzz.ratio(\"mancesther\", \"manchester\")"
   ]
  },
  {
   "cell_type": "markdown",
   "metadata": {},
   "source": [
    "How do you measure similarity of two strings a, b?\n",
    "\n",
    "    Number of editing operations to get from a to b\n",
    "        Replace (Hamming)\n",
    "        Replace, insert, delete (Levenshtein)\n",
    "        Replace, insert, delete, transpose (Levenshtein-Damerau)\n",
    "        ...\n",
    "    Longest common substring\n",
    "    Common word count\n",
    "    Letter frequency\n",
    "\n"
   ]
  },
  {
   "cell_type": "markdown",
   "metadata": {},
   "source": [
    "**Hamming Distance Explanation**\n",
    "\n",
    "Hamming distance is the number of letters one has to replace to get from string a to string b.\n",
    "\n",
    "    d(\"cat\", \"hat\") = 1, replace 1st letter (c -> h)\n",
    "    d(\"cat\", \"lag\") = 2, replace 1st letter (c -> l) and 3rd letter (t -> g)\n",
    "    d(\"cat\", \"cats\") is conventionally not defined (it cannot be achieved by replacing letters)\n",
    "\n",
    "\n",
    "**Hamming distance is used in study of error-correcting codes (encoding schemes that are resilient to some number of corrupt bits). Its major limitation in that it doesn't handle misaligned sequences well.**\n",
    "\n",
    "'''\n",
    "d(\"Hamming distance\",\n",
    "  \"Hammingdistance \") = 9\n",
    "          xxxxxxxxx\n",
    "'''"
   ]
  },
  {
   "cell_type": "code",
   "execution_count": 30,
   "metadata": {},
   "outputs": [
    {
     "data": {
      "application/vnd.jupyter.widget-view+json": {
       "model_id": "523c3295943c4a4588f9dd201cbfee00",
       "version_major": 2,
       "version_minor": 0
      },
      "text/plain": [
       "interactive(children=(Text(value='', description='input_text'), Output()), _dom_classes=('widget-interact',))"
      ]
     },
     "metadata": {},
     "output_type": "display_data"
    }
   ],
   "source": [
    "\n",
    "\n",
    "def hamming_distance(a: str, b: str):\n",
    "    if len(a) == len(b):\n",
    "        return sum(1 for a_i, b_i in zip(a, b) if a_i != b_i)\n",
    "    else:\n",
    "        return float(\"inf\")  # cannot get different length\n",
    "\n",
    "\n",
    "@print_timing\n",
    "def interact_cities_hamming(input_text):\n",
    "    if not input_text: return\n",
    "    for score, city in list(sorted((hamming_distance(input_text, s), s) for s in cities))[:10]:\n",
    "        print(f\"{city:60}{score:3.2f}\")\n",
    "\n",
    "widgets.interact(interact_cities_hamming, input_text=\"\");\n",
    "\n"
   ]
  },
  {
   "cell_type": "markdown",
   "metadata": {},
   "source": [
    "-------\n",
    "\n"
   ]
  },
  {
   "cell_type": "markdown",
   "metadata": {},
   "source": [
    "## Levenshtein Distance with DP(Wagner-Fischer)\n",
    "[Wagner Fisher algorithm - Wiki](https://en.wikipedia.org/wiki/Wagner%E2%80%93Fischer_algorithm)\n",
    "\n",
    "Runtime - O(n^2)\n",
    "\n",
    "Compared to optimized C implementation, below levenshtein_distance() is 100-500x slower."
   ]
  },
  {
   "cell_type": "code",
   "execution_count": 31,
   "metadata": {},
   "outputs": [],
   "source": [
    "\n",
    "\n",
    "def levenshtein_distance(a: str, b: str, verbose: bool = False) -> int:\n",
    "    m, n = len(a), len(b)\n",
    "    d = np.zeros((m+1, n+1), dtype=int)  # d[i,j] = levenshtein_distance(a[:i], b[:j])\n",
    "        \n",
    "    # when the other string is empty, distance is length of non-empty string\n",
    "    for i in range(m+1): d[i, 0] = i\n",
    "    for i in range(n+1): d[0, i] = i\n",
    "    \n",
    "    for j in range(1, n+1):\n",
    "        for i in range(1, m+1):\n",
    "            cost = 1 if a[i-1] != b[j-1] else 0\n",
    "            d[i, j] = min(d[i-1, j-1] + cost,   # substitute         ↘\n",
    "                          d[i, j-1]   + 1,      # delete from B      →\n",
    "                          d[i-1, j]   + 1)      # insert into B      ↓\n",
    "    \n",
    "    if verbose: print(d)\n",
    "    return d[m, n]\n",
    "\n"
   ]
  },
  {
   "cell_type": "code",
   "execution_count": 32,
   "metadata": {},
   "outputs": [
    {
     "name": "stdout",
     "output_type": "stream",
     "text": [
      "[[0 1 2 3 4 5 6 7]\n",
      " [1 1 2 3 4 4 5 6]\n",
      " [2 2 2 3 4 5 4 5]\n",
      " [3 3 3 3 4 5 5 4]]\n"
     ]
    },
    {
     "data": {
      "text/plain": [
       "4"
      ]
     },
     "execution_count": 32,
     "metadata": {},
     "output_type": "execute_result"
    }
   ],
   "source": [
    "d = levenshtein_distance(\"cat\", \"wildcat\", verbose=True)\n",
    "d"
   ]
  },
  {
   "cell_type": "code",
   "execution_count": 33,
   "metadata": {},
   "outputs": [
    {
     "name": "stdout",
     "output_type": "stream",
     "text": [
      "79.1 ns ± 0.349 ns per loop (mean ± std. dev. of 7 runs, 10,000,000 loops each)\n",
      "118 ns ± 1.07 ns per loop (mean ± std. dev. of 7 runs, 10,000,000 loops each)\n",
      "254 ns ± 1.17 ns per loop (mean ± std. dev. of 7 runs, 1,000,000 loops each)\n"
     ]
    }
   ],
   "source": [
    "# optimized C implementation, https://pypi.org/project/python-Levenshtein\n",
    "\n",
    "%timeit Levenshtein.distance(\"cat\", \"rat\")\n",
    "%timeit Levenshtein.distance(\"knight\", \"knigth\")\n",
    "%timeit Levenshtein.distance(\"unimaginable\", \"imagination\")\n",
    "\n"
   ]
  },
  {
   "cell_type": "code",
   "execution_count": 34,
   "metadata": {},
   "outputs": [
    {
     "name": "stdout",
     "output_type": "stream",
     "text": [
      "11.4 µs ± 92.9 ns per loop (mean ± std. dev. of 7 runs, 100,000 loops each)\n",
      "39.8 µs ± 262 ns per loop (mean ± std. dev. of 7 runs, 10,000 loops each)\n",
      "139 µs ± 1.18 µs per loop (mean ± std. dev. of 7 runs, 10,000 loops each)\n"
     ]
    }
   ],
   "source": [
    "%timeit levenshtein_distance(\"cat\", \"rat\")\n",
    "%timeit levenshtein_distance(\"knight\", \"knigth\")\n",
    "%timeit levenshtein_distance(\"unimaginable\", \"imagination\")"
   ]
  },
  {
   "cell_type": "code",
   "execution_count": 35,
   "metadata": {},
   "outputs": [
    {
     "data": {
      "application/vnd.jupyter.widget-view+json": {
       "model_id": "73fc07fc65af4660957a4a92d9aeb077",
       "version_major": 2,
       "version_minor": 0
      },
      "text/plain": [
       "interactive(children=(Text(value='', description='input_text'), Output()), _dom_classes=('widget-interact',))"
      ]
     },
     "metadata": {},
     "output_type": "display_data"
    }
   ],
   "source": [
    "# CITIES EXAMPLE\n",
    "@print_timing\n",
    "def interact_cities_levenshtein(input_text):\n",
    "    n = len(input_text)\n",
    "    def rank(s):\n",
    "        m = len(s)\n",
    "        if abs(m - n) > 5:  # 🔧 cheating a bit - we'll skip words which would have\n",
    "            return 0        #                     a large distance anyway\n",
    "        elif m == n:\n",
    "            dist = hamming_distance(input_text, s)  # 🔧 not cheating, gives the same results\n",
    "        else:\n",
    "            dist = levenshtein_distance(input_text, s)\n",
    "        return 1.0 - dist/max(n, m)\n",
    "        \n",
    "    if not input_text: return\n",
    "    for score, city in list(sorted(((rank(s), s) for s in cities), reverse=True))[:10]:\n",
    "        print(f\"{city:60}{100*score:3.2f}\")\n",
    "\n",
    "widgets.interact(interact_cities_levenshtein, input_text=\"\");"
   ]
  },
  {
   "cell_type": "markdown",
   "metadata": {},
   "source": [
    "### Vectorization "
   ]
  },
  {
   "cell_type": "markdown",
   "metadata": {},
   "source": [
    "Our Wagner-Fischer in Python is close, but not quite there for real-time querying. One possible thing to do here would be to optimize the function as it is, eg. using Cython or Numba.\n",
    "\n",
    "However, there is a different way — we can compute many distances at once, using the exact same logic. Indeed, for all strings of the same length, the algorithm does exactly the same steps, just the values in the table are different.\n",
    "\n",
    "Instead of one 2D table, we can have a \"3D table\", really just many 2D tables stacked together. Then d[i,j] will not be just one number, but a vector holding the results for all processed strings at once.\n",
    "\n",
    "This should be significantly faster, because the operations we need (sum, comparison, minimum) can be executed very efficiently for vectors using eg. NumPy. The Python function itself will be as slow as ever, but we'll only need to call it once, not thousands of times. Note that this doesn't change the asymptotic running time at all, it's just about the efficiency of Python vs. native code."
   ]
  },
  {
   "cell_type": "code",
   "execution_count": 36,
   "metadata": {},
   "outputs": [],
   "source": [
    "\n",
    "\n",
    "def levenshtein_distance_vec(a: np.ndarray, b: np.ndarray) -> np.ndarray:\n",
    "    m, n, k = len(a), len(b), b.shape[1]\n",
    "    d = np.zeros((m+1, n+1, k), dtype=np.uint16)  # d[i,j] = levenshtein_distance(a[:i], b[:j])\n",
    "\n",
    "    # when the other string is empty, distance is length of non-empty string\n",
    "    for i in range(m+1): d[i, 0] = i\n",
    "    for i in range(n+1): d[0, i] = i\n",
    "    \n",
    "    for j in range(1, n+1):\n",
    "        for i in range(1, m+1):\n",
    "            cost = a[i-1] != b[j-1]\n",
    "            d[i, j] = np.min([d[i-1, j-1] + cost,        # substitute         ↘\n",
    "                              d[i, j-1]   + 1,           # delete from B      →\n",
    "                              d[i-1, j]   + 1], axis=0)  # insert into B      ↓\n",
    "\n",
    "    return d[m, n]\n",
    "\n"
   ]
  },
  {
   "cell_type": "code",
   "execution_count": 37,
   "metadata": {},
   "outputs": [
    {
     "data": {
      "application/vnd.jupyter.widget-view+json": {
       "model_id": "9a786f9d72114532834be7479fffbd06",
       "version_major": 2,
       "version_minor": 0
      },
      "text/plain": [
       "interactive(children=(Text(value='', description='input_text'), Output()), _dom_classes=('widget-interact',))"
      ]
     },
     "metadata": {},
     "output_type": "display_data"
    }
   ],
   "source": [
    "\n",
    "\n",
    "# convert input strings to NumPy matrices\n",
    "len_to_cities = {}\n",
    "for w in cities: len_to_cities.setdefault(len(w), []).append(w)\n",
    "len_to_mat = {n: np.asarray([[ord(c) for c in w] for w in ws], dtype=np.uint16).T\n",
    "              for n, ws in len_to_cities.items()}\n",
    "\n",
    "@print_timing\n",
    "def interact_cities_levenshtein_vec(input_text):\n",
    "    a_vec = np.asarray([ord(c) for c in input_text])\n",
    "    n = len(input_text)\n",
    "    xs, ys = [], []\n",
    "    \n",
    "    for m, b_mat in len_to_mat.items():\n",
    "        if abs(m - n) > 5: continue  # 🔧 again, skipping strings with obvious large distance\n",
    "        dist = levenshtein_distance_vec(a_vec, b_mat)\n",
    "        scores = 1.0 - dist/max(n, m)\n",
    "        xs.extend(len_to_cities[m])\n",
    "        ys.extend(scores) \n",
    "    \n",
    "    if not input_text: return\n",
    "    for score, city in list(sorted(zip(ys, xs), reverse=True))[:10]:\n",
    "        print(f\"{city:60}{score:3.2f}\")\n",
    "\n",
    "widgets.interact(interact_cities_levenshtein_vec, input_text=\"\");\n",
    "\n"
   ]
  },
  {
   "cell_type": "markdown",
   "metadata": {},
   "source": [
    "### Levenshtein in C"
   ]
  },
  {
   "cell_type": "code",
   "execution_count": 38,
   "metadata": {},
   "outputs": [
    {
     "name": "stdout",
     "output_type": "stream",
     "text": [
      "levenshtein_distance\n",
      "4.67 s ± 0 ns per loop (mean ± std. dev. of 1 run, 1 loop each)\n",
      "\n",
      "levenshtein_distance_vec\n",
      "155 ms ± 6.73 ms per loop (mean ± std. dev. of 7 runs, 10 loops each)\n",
      "\n",
      "C implementation\n",
      "14.2 ms ± 85.3 µs per loop (mean ± std. dev. of 7 runs, 100 loops each)\n"
     ]
    }
   ],
   "source": [
    "a = \"londen\"\n",
    "a_vec = np.asarray([ord(c) for c in a])\n",
    "\n",
    "print(\"levenshtein_distance\")\n",
    "%timeit -r 1 -n 1 [levenshtein_distance(a, b) for b in cities]\n",
    "print(\"\\nlevenshtein_distance_vec\")\n",
    "%timeit [levenshtein_distance_vec(a_vec, b_mat) for b_mat in len_to_mat.values()]\n",
    "print(\"\\nC implementation\")\n",
    "%timeit [Levenshtein.distance(a, b) for b in cities]"
   ]
  },
  {
   "cell_type": "code",
   "execution_count": null,
   "metadata": {},
   "outputs": [],
   "source": []
  }
 ],
 "metadata": {
  "interpreter": {
   "hash": "69ee464c5dfdd767ac3e2c17f03f0a6910b7d3633c99ee3e329fea56a381d9c9"
  },
  "kernelspec": {
   "display_name": "Python 3.10.4 ('fuzzy_search-7LoExk7G')",
   "language": "python",
   "name": "python3"
  },
  "language_info": {
   "codemirror_mode": {
    "name": "ipython",
    "version": 3
   },
   "file_extension": ".py",
   "mimetype": "text/x-python",
   "name": "python",
   "nbconvert_exporter": "python",
   "pygments_lexer": "ipython3",
   "version": "3.10.4"
  },
  "orig_nbformat": 4
 },
 "nbformat": 4,
 "nbformat_minor": 2
}
