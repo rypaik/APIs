{
 "cells": [
  {
   "cell_type": "code",
   "execution_count": 4,
   "metadata": {},
   "outputs": [],
   "source": [
    "\n",
    "import streamlit as st\n",
    "import pandas as pd \n",
    "import numpy as np\n",
    "from st_aggrid import GridOptionsBuilder, AgGrid, GridUpdateMode, DataReturnMode\n",
    "import statsapi\n",
    "\n",
    "# data= pd.read_csv('df_sample_data.csv', index_col=0) "
   ]
  },
  {
   "cell_type": "code",
   "execution_count": 5,
   "metadata": {},
   "outputs": [
    {
     "name": "stdout",
     "output_type": "stream",
     "text": [
      "[[1, 'Ryan Mountcastle', 'Baltimore Orioles', '33'], [2, 'Adolis Garcia', 'Texas Rangers', '31'], [3, 'Patrick Wisdom', 'Chicago Cubs', '28'], [4, 'Bobby Dalbec', 'Boston Red Sox', '25'], [5, 'Eric Haase', 'Detroit Tigers', '22'], [6, 'Jonathan India', 'Cincinnati Reds', '21'], [7, 'Randy Arozarena', 'Tampa Bay Rays', '20'], [7, 'Seth Brown', 'Oakland Athletics', '20'], [9, 'Dylan Carlson', 'St. Louis Cardinals', '18'], [9, 'Jazz Chisholm Jr.', 'Miami Marlins', '18'], [11, 'Bobby Bradley', 'Cleveland Indians', '16'], [12, 'Andrew Vaughn', 'Chicago White Sox', '15'], [13, 'Ryan Jeffers', 'Minnesota Twins', '14'], [13, 'Jarred Kelenic', 'Seattle Mariners', '14'], [13, 'Chas McCormick', 'Houston Astros', '14'], [13, 'Jesus Sanchez', 'Miami Marlins', '14'], [13, 'Frank Schwindel', 'Chicago Cubs', '14']]\n",
      "    Rank             Player                Teams  HR\n",
      "0      1   Ryan Mountcastle    Baltimore Orioles  33\n",
      "1      2      Adolis Garcia        Texas Rangers  31\n",
      "2      3     Patrick Wisdom         Chicago Cubs  28\n",
      "3      4       Bobby Dalbec       Boston Red Sox  25\n",
      "4      5         Eric Haase       Detroit Tigers  22\n",
      "5      6     Jonathan India      Cincinnati Reds  21\n",
      "6      7    Randy Arozarena       Tampa Bay Rays  20\n",
      "7      7         Seth Brown    Oakland Athletics  20\n",
      "8      9      Dylan Carlson  St. Louis Cardinals  18\n",
      "9      9  Jazz Chisholm Jr.        Miami Marlins  18\n",
      "10    11      Bobby Bradley    Cleveland Indians  16\n",
      "11    12      Andrew Vaughn    Chicago White Sox  15\n",
      "12    13       Ryan Jeffers      Minnesota Twins  14\n",
      "13    13     Jarred Kelenic     Seattle Mariners  14\n",
      "14    13     Chas McCormick       Houston Astros  14\n",
      "15    13      Jesus Sanchez        Miami Marlins  14\n",
      "16    13    Frank Schwindel         Chicago Cubs  14\n"
     ]
    }
   ],
   "source": [
    "def rookie_hr_leader_dict():\n",
    "    rookie_hr_leaders_d = statsapi.league_leader_data('homeRuns', season=2021, playerPool='rookies', limit= 15)\n",
    "    # print(rookie_hr_leaders_d)\n",
    "    return rookie_hr_leaders_d\n",
    "\n",
    "def hr_leader_pandas(hr_list):\n",
    "    df = pd.DataFrame(hr_list)\n",
    "    # df = df.transpose()\n",
    "    df.columns = ['Rank', 'Player','Teams', 'HR' ]\n",
    "    # print(df)\n",
    "    return df\n",
    "list_r_hr_leaders = rookie_hr_leader_dict()\n",
    "hr_rook_df = hr_leader_pandas(list_r_hr_leaders)"
   ]
  },
  {
   "cell_type": "code",
   "execution_count": 7,
   "metadata": {},
   "outputs": [
    {
     "data": {
      "text/plain": [
       "{'data':     Rank             Player                Teams  HR\n",
       " 0      1   Ryan Mountcastle    Baltimore Orioles  33\n",
       " 1      2      Adolis Garcia        Texas Rangers  31\n",
       " 2      3     Patrick Wisdom         Chicago Cubs  28\n",
       " 3      4       Bobby Dalbec       Boston Red Sox  25\n",
       " 4      5         Eric Haase       Detroit Tigers  22\n",
       " 5      6     Jonathan India      Cincinnati Reds  21\n",
       " 6      7    Randy Arozarena       Tampa Bay Rays  20\n",
       " 7      7         Seth Brown    Oakland Athletics  20\n",
       " 8      9      Dylan Carlson  St. Louis Cardinals  18\n",
       " 9      9  Jazz Chisholm Jr.        Miami Marlins  18\n",
       " 10    11      Bobby Bradley    Cleveland Indians  16\n",
       " 11    12      Andrew Vaughn    Chicago White Sox  15\n",
       " 12    13       Ryan Jeffers      Minnesota Twins  14\n",
       " 13    13     Jarred Kelenic     Seattle Mariners  14\n",
       " 14    13     Chas McCormick       Houston Astros  14\n",
       " 15    13      Jesus Sanchez        Miami Marlins  14\n",
       " 16    13    Frank Schwindel         Chicago Cubs  14,\n",
       " 'selected_rows': []}"
      ]
     },
     "execution_count": 7,
     "metadata": {},
     "output_type": "execute_result"
    }
   ],
   "source": [
    "AgGrid(hr_rook_df)"
   ]
  },
  {
   "cell_type": "code",
   "execution_count": null,
   "metadata": {},
   "outputs": [],
   "source": []
  }
 ],
 "metadata": {
  "interpreter": {
   "hash": "68a57bf297e9bd9a4363152d028953fcce5f0753ca356319ce52e55bcfadd9ad"
  },
  "kernelspec": {
   "display_name": "Python 3.9.12 ('st_mlbstatsapi-LZk5WU8T')",
   "language": "python",
   "name": "python3"
  },
  "language_info": {
   "codemirror_mode": {
    "name": "ipython",
    "version": 3
   },
   "file_extension": ".py",
   "mimetype": "text/x-python",
   "name": "python",
   "nbconvert_exporter": "python",
   "pygments_lexer": "ipython3",
   "version": "3.9.12"
  },
  "orig_nbformat": 4
 },
 "nbformat": 4,
 "nbformat_minor": 2
}
