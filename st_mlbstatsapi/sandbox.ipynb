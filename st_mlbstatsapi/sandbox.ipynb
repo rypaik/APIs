{
 "cells": [
  {
   "cell_type": "code",
   "execution_count": 10,
   "metadata": {},
   "outputs": [],
   "source": [
    "import statsapi\n",
    "import pandas as pd\n",
    "import io\n",
    "# from io import StringIO\n",
    "# import matplotlib as plot\n",
    "# logging\n",
    "import logging\n",
    "from pprint import pprint   "
   ]
  },
  {
   "cell_type": "code",
   "execution_count": 5,
   "metadata": {},
   "outputs": [
    {
     "name": "stdout",
     "output_type": "stream",
     "text": [
      "Return type: <class 'str'>\n",
      "['Rank Name                 Team                    Value', ' 1   Ryan Mountcastle     Baltimore Orioles        33  ', ' 2   Adolis Garcia        Texas Rangers            31  ', ' 3   Patrick Wisdom       Chicago Cubs             28  ', ' 4   Bobby Dalbec         Boston Red Sox           25  ', ' 5   Eric Haase           Detroit Tigers           22  ', ' 6   Jonathan India       Cincinnati Reds          21  ', ' 7   Randy Arozarena      Tampa Bay Rays           20  ', ' 7   Seth Brown           Oakland Athletics        20  ', ' 9   Dylan Carlson        St. Louis Cardinals      18  ', ' 9   Jazz Chisholm Jr.    Miami Marlins            18  ', ' 11  Bobby Bradley        Cleveland Indians        16  ', ' 12  Andrew Vaughn        Chicago White Sox        15  ', ' 13  Ryan Jeffers         Minnesota Twins          14  ', ' 13  Jarred Kelenic       Seattle Mariners         14  ', ' 13  Chas McCormick       Houston Astros           14  ', ' 13  Jesus Sanchez        Miami Marlins            14  ', ' 13  Frank Schwindel      Chicago Cubs             14  ', '']\n",
      "printing temp item list\n",
      "['Rank Name                 Team                    Value']\n",
      "[' 1   Ryan Mountcastle     Baltimore Orioles        33  ']\n",
      "[' 2   Adolis Garcia        Texas Rangers            31  ']\n",
      "[' 3   Patrick Wisdom       Chicago Cubs             28  ']\n",
      "[' 4   Bobby Dalbec         Boston Red Sox           25  ']\n",
      "[' 5   Eric Haase           Detroit Tigers           22  ']\n",
      "[' 6   Jonathan India       Cincinnati Reds          21  ']\n",
      "[' 7   Randy Arozarena      Tampa Bay Rays           20  ']\n",
      "[' 7   Seth Brown           Oakland Athletics        20  ']\n",
      "[' 9   Dylan Carlson        St. Louis Cardinals      18  ']\n",
      "[' 9   Jazz Chisholm Jr.    Miami Marlins            18  ']\n",
      "[' 11  Bobby Bradley        Cleveland Indians        16  ']\n",
      "[' 12  Andrew Vaughn        Chicago White Sox        15  ']\n",
      "[' 13  Ryan Jeffers         Minnesota Twins          14  ']\n",
      "[' 13  Jarred Kelenic       Seattle Mariners         14  ']\n",
      "[' 13  Chas McCormick       Houston Astros           14  ']\n",
      "[' 13  Jesus Sanchez        Miami Marlins            14  ']\n",
      "[' 13  Frank Schwindel      Chicago Cubs             14  ']\n",
      "['']\n",
      "[['Rank Name                 Team                    Value'], [' 1   Ryan Mountcastle     Baltimore Orioles        33  '], [' 2   Adolis Garcia        Texas Rangers            31  '], [' 3   Patrick Wisdom       Chicago Cubs             28  '], [' 4   Bobby Dalbec         Boston Red Sox           25  '], [' 5   Eric Haase           Detroit Tigers           22  '], [' 6   Jonathan India       Cincinnati Reds          21  '], [' 7   Randy Arozarena      Tampa Bay Rays           20  '], [' 7   Seth Brown           Oakland Athletics        20  '], [' 9   Dylan Carlson        St. Louis Cardinals      18  '], [' 9   Jazz Chisholm Jr.    Miami Marlins            18  '], [' 11  Bobby Bradley        Cleveland Indians        16  '], [' 12  Andrew Vaughn        Chicago White Sox        15  '], [' 13  Ryan Jeffers         Minnesota Twins          14  '], [' 13  Jarred Kelenic       Seattle Mariners         14  '], [' 13  Chas McCormick       Houston Astros           14  '], [' 13  Jesus Sanchez        Miami Marlins            14  '], [' 13  Frank Schwindel      Chicago Cubs             14  '], ['']]\n"
     ]
    }
   ],
   "source": [
    "def convert(string):\n",
    "    li = list(string.split(\"\\n\"))\n",
    "    return li\n",
    "\n",
    "def get_rookie_hr_leader():\n",
    "    # returns a str of search\n",
    "    rookie_hr_leaders = statsapi.league_leaders('homeRuns', season=2021, playerPool = 'rookies', limit=15)\n",
    "    rookies_list= []\n",
    "    rookies_final_list=[]\n",
    "    # print(rookie_hr_leaders)\n",
    "    print(f\"Return type: {type(rookie_hr_leaders)}\")    \n",
    "    rookies_str = io.StringIO(rookie_hr_leaders)\n",
    "    rookies_nstr = rookies_str.getvalue() \n",
    "    rookies_list = convert(rookies_nstr)\n",
    "    print(rookies_list)\n",
    "    print(\"printing temp item list\")\n",
    "    for i in rookies_list:\n",
    "        temp_item = i.split('\\t')\n",
    "        print(temp_item)\n",
    "        rookies_final_list.append(temp_item)\n",
    "    print(rookies_final_list)    \n",
    "\n",
    "\n",
    "    # rookies_df= pd.read_csv(rookies_str, sep='\\t', lineterminator='\\r')\n",
    "    # rookies_df= pd.read_csv([x.split(\"\\t\") for x in rookies_str.split('\\n')])\n",
    "    # rookies_df= pd.read_csv(rookies_str, delimiter=r'[\\t+|\\n\\]', engine='python')\n",
    "    # rookies_df= pd.read_csv(rookies_str, sep=\"[\\t+|\\n\\]\", engine='python'\n",
    "    # rookies_df = rookies_raw_df.iloc[1,:]\n",
    "    # print(rookies_df)\n",
    "    # print(rookies_df[RNK])\n",
    "\n",
    "    # print str class object values\n",
    "    # contents = rookies_str.getvalue()\n",
    "    # print(contents)\n",
    "    # print(dir(rookies_str))\n",
    "    \n",
    "    \n",
    "    \n",
    "    # data_df = pd.read_csv(rookies_str, sep= '\\t', skiprows=1)\n",
    "    # data_df.columns =['Index', 'Rank', 'Name', 'Team' , 'HR']\n",
    "    # print(data_df)\n",
    "    # print(data_df[0])\n",
    "   \n",
    "    \n",
    "    # data_df.select_dtypes(include='int')\n",
    "    # data_df.info()\n",
    "    # print(data_df)\n",
    "    \n",
    "    # df =pd.DataFrame(data_df, index=[\"Rank\", \"Name\", \"Team\"  , \"HR\"])\n",
    "    \n",
    "    # print(data_df[0])\n",
    "    # # print(\"new df index\")\n",
    "    # df.info()\n",
    "    # print(\"\\nThis is index of DataFrame:\\n\")\n",
    "    # for idx in rookies_df.index:\n",
    "        # print(f\"{idx} + \")\n",
    "    # print(rookies_df[\"Rank Name                 Team                    Value\"])        \n",
    "    # print(rookies_df.info())   \n",
    "    # print(rookies_df.shape)\n",
    "    # print(\"new df index applied\")\n",
    "    # print(df.columns)\n",
    "   \n",
    "    # print(\"first row fo data frame without index\")    \n",
    "    # # print(df.iloc[0])\n",
    "    # print(df)\n",
    "    # # print(df.iloc[Index])\n",
    "    \n",
    "get_rookie_hr_leader()\n"
   ]
  },
  {
   "cell_type": "code",
   "execution_count": 13,
   "metadata": {},
   "outputs": [
    {
     "name": "stdout",
     "output_type": "stream",
     "text": [
      "[[1, 'Ryan Mountcastle', 'Baltimore Orioles', '33'], [2, 'Adolis Garcia', 'Texas Rangers', '31'], [3, 'Patrick Wisdom', 'Chicago Cubs', '28'], [4, 'Bobby Dalbec', 'Boston Red Sox', '25'], [5, 'Eric Haase', 'Detroit Tigers', '22'], [6, 'Jonathan India', 'Cincinnati Reds', '21'], [7, 'Randy Arozarena', 'Tampa Bay Rays', '20'], [7, 'Seth Brown', 'Oakland Athletics', '20'], [9, 'Dylan Carlson', 'St. Louis Cardinals', '18'], [9, 'Jazz Chisholm Jr.', 'Miami Marlins', '18'], [11, 'Bobby Bradley', 'Cleveland Indians', '16'], [12, 'Andrew Vaughn', 'Chicago White Sox', '15'], [13, 'Ryan Jeffers', 'Minnesota Twins', '14'], [13, 'Jarred Kelenic', 'Seattle Mariners', '14'], [13, 'Chas McCormick', 'Houston Astros', '14'], [13, 'Jesus Sanchez', 'Miami Marlins', '14'], [13, 'Frank Schwindel', 'Chicago Cubs', '14']]\n",
      "    Rank             Player                Teams  HR\n",
      "0      1   Ryan Mountcastle    Baltimore Orioles  33\n",
      "1      2      Adolis Garcia        Texas Rangers  31\n",
      "2      3     Patrick Wisdom         Chicago Cubs  28\n",
      "3      4       Bobby Dalbec       Boston Red Sox  25\n",
      "4      5         Eric Haase       Detroit Tigers  22\n",
      "5      6     Jonathan India      Cincinnati Reds  21\n",
      "6      7    Randy Arozarena       Tampa Bay Rays  20\n",
      "7      7         Seth Brown    Oakland Athletics  20\n",
      "8      9      Dylan Carlson  St. Louis Cardinals  18\n",
      "9      9  Jazz Chisholm Jr.        Miami Marlins  18\n",
      "10    11      Bobby Bradley    Cleveland Indians  16\n",
      "11    12      Andrew Vaughn    Chicago White Sox  15\n",
      "12    13       Ryan Jeffers      Minnesota Twins  14\n",
      "13    13     Jarred Kelenic     Seattle Mariners  14\n",
      "14    13     Chas McCormick       Houston Astros  14\n",
      "15    13      Jesus Sanchez        Miami Marlins  14\n",
      "16    13    Frank Schwindel         Chicago Cubs  14\n"
     ]
    }
   ],
   "source": [
    "def rookie_hr_leader_dict():\n",
    "    rookie_hr_leaders_d = statsapi.league_leader_data('homeRuns', season=2021, playerPool='rookies', limit= 15)\n",
    "    print(rookie_hr_leaders_d)\n",
    "    return rookie_hr_leaders_d\n",
    "\n",
    "def hr_leader_pandas(hr_list):\n",
    "    df = pd.DataFrame(hr_list)\n",
    "    # df = df.transpose()\n",
    "    df.columns = ['Rank', 'Player','Teams', 'HR' ]\n",
    "    print(df)\n",
    "\n",
    "list_r_hr_leaders = rookie_hr_leader_dict()\n",
    "hr_leader_pandas(list_r_hr_leaders)"
   ]
  },
  {
   "cell_type": "code",
   "execution_count": 7,
   "metadata": {},
   "outputs": [],
   "source": [
    "def get_Meta(types):\n",
    "    meta_types = statsapi.meta(types)\n",
    "    print(f\"Printing Meta for {types} \\n {meta_types}\")"
   ]
  },
  {
   "cell_type": "code",
   "execution_count": 8,
   "metadata": {},
   "outputs": [
    {
     "name": "stdout",
     "output_type": "stream",
     "text": [
      "Printing Meta for leagueLeaderTypes \n",
      " [{'displayName': 'assists'}, {'displayName': 'shutouts'}, {'displayName': 'homeRuns'}, {'displayName': 'sacrificeBunts'}, {'displayName': 'sacrificeFlies'}, {'displayName': 'runs'}, {'displayName': 'groundoutToFlyoutRatio'}, {'displayName': 'stolenBases'}, {'displayName': 'battingAverage'}, {'displayName': 'groundOuts'}, {'displayName': 'numberOfPitches'}, {'displayName': 'onBasePercentage'}, {'displayName': 'caughtStealing'}, {'displayName': 'groundIntoDoublePlays'}, {'displayName': 'totalBases'}, {'displayName': 'earnedRunAverage'}, {'displayName': 'fieldingPercentage'}, {'displayName': 'walksAndHitsPerInningPitched'}, {'displayName': 'flyouts'}, {'displayName': 'hitByPitches'}, {'displayName': 'gamesPlayed'}, {'displayName': 'walks'}, {'displayName': 'sluggingPercentage'}, {'displayName': 'onBasePlusSlugging'}, {'displayName': 'runsBattedIn'}, {'displayName': 'triples'}, {'displayName': 'extraBaseHits'}, {'displayName': 'hits'}, {'displayName': 'atBats'}, {'displayName': 'strikeouts'}, {'displayName': 'doubles'}, {'displayName': 'totalPlateAppearances'}, {'displayName': 'intentionalWalks'}, {'displayName': 'wins'}, {'displayName': 'losses'}, {'displayName': 'saves'}, {'displayName': 'wildPitch'}, {'displayName': 'airOuts'}, {'displayName': 'balk'}, {'displayName': 'blownSaves'}, {'displayName': 'catcherEarnedRunAverage'}, {'displayName': 'catchersInterference'}, {'displayName': 'chances'}, {'displayName': 'completeGames'}, {'displayName': 'doublePlays'}, {'displayName': 'earnedRun'}, {'displayName': 'errors'}, {'displayName': 'gamesFinished'}, {'displayName': 'gamesStarted'}, {'displayName': 'hitBatsman'}, {'displayName': 'hitsPer9Inn'}, {'displayName': 'holds'}, {'displayName': 'innings'}, {'displayName': 'inningsPitched'}, {'displayName': 'outfieldAssists'}, {'displayName': 'passedBalls'}, {'displayName': 'pickoffs'}, {'displayName': 'pitchesPerInning'}, {'displayName': 'putOuts'}, {'displayName': 'rangeFactorPerGame'}, {'displayName': 'rangeFactorPer9Inn'}, {'displayName': 'saveOpportunities'}, {'displayName': 'stolenBasePercentage'}, {'displayName': 'strikeoutsPer9Inn'}, {'displayName': 'strikeoutWalkRatio'}, {'displayName': 'throwingErrors'}, {'displayName': 'totalBattersFaced'}, {'displayName': 'triplePlays'}, {'displayName': 'walksPer9Inn'}, {'displayName': 'winPercentage'}]\n",
      "None\n"
     ]
    }
   ],
   "source": [
    "\n",
    "print(get_Meta('leagueLeaderTypes'))\n",
    "\n",
    "\n",
    "# Function: team_leader_data -> list[dicts{}]\n",
    "# statsapi.team_leader_data(teamId, leaderCategories, season=datetime.now().year, leaderGameTypes=\"R\", limit=10)\n",
    "\n",
    "\n",
    "\n",
    "# print(get_Meta('leaderGameTypes'))\n",
    "\n",
    "# print(get_Meta('teamId'))"
   ]
  },
  {
   "cell_type": "code",
   "execution_count": null,
   "metadata": {},
   "outputs": [],
   "source": [
    "# Meta Function\n",
    "# https://github.com/toddrob99/MLB-StatsAPI/wiki/Function:-meta\n",
    "# \n",
    "# \n",
    "# Endpoint\n",
    "# https://github.com/toddrob99/MLB-StatsAPI/wiki/Endpoints"
   ]
  }
 ],
 "metadata": {
  "interpreter": {
   "hash": "68a57bf297e9bd9a4363152d028953fcce5f0753ca356319ce52e55bcfadd9ad"
  },
  "kernelspec": {
   "display_name": "Python 3.9.12 ('st_mlbstatsapi-LZk5WU8T')",
   "language": "python",
   "name": "python3"
  },
  "language_info": {
   "codemirror_mode": {
    "name": "ipython",
    "version": 3
   },
   "file_extension": ".py",
   "mimetype": "text/x-python",
   "name": "python",
   "nbconvert_exporter": "python",
   "pygments_lexer": "ipython3",
   "version": "3.9.12"
  },
  "orig_nbformat": 4
 },
 "nbformat": 4,
 "nbformat_minor": 2
}
