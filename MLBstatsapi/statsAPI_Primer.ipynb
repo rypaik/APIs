{
  "cells": [
    {
      "cell_type": "code",
      "execution_count": 2,
      "metadata": {
        "collapsed": true,
        "execution": {
          "iopub.execute_input": "2022-03-25T18:20:06.241Z",
          "iopub.status.busy": "2022-03-25T18:20:06.238Z"
        },
        "jupyter": {
          "outputs_hidden": false,
          "source_hidden": false
        },
        "nteract": {
          "transient": {
            "deleting": false
          }
        }
      },
      "outputs": [],
      "source": [
        "import statsapi\n",
        "import pandas as pd\n",
        "from pprint import pprint"
      ]
    },
    {
      "cell_type": "code",
      "execution_count": 3,
      "metadata": {},
      "outputs": [],
      "source": [
        "# import logging\n",
        "# logger = logging.getLogger('statsapi')\n",
        "# logger.setLevel(logging.DEBUG)\n",
        "# rootLogger = logging.getLogger()\n",
        "# rootLogger.setLevel(logging.DEBUG)\n",
        "# ch = logging.StreamHandler()\n",
        "# formatter = logging.Formatter(\"%(asctime)s - %(levelname)8s - %(name)s(%(thread)s) - %(message)s\")\n",
        "# ch.setFormatter(formatter)\n",
        "# rootLogger.addHandler(ch)"
      ]
    },
    {
      "cell_type": "markdown",
      "metadata": {},
      "source": [
        "______\n",
        "## LOOKUP\n",
        "______\n"
      ]
    },
    {
      "cell_type": "markdown",
      "metadata": {},
      "source": [
        "Gets Player by Part of Name \n",
        "returns Player ID'\n",
        "\n",
        "active_sw\n",
        "sport_code\n",
        "search_player_all\n",
        "search_player_all.col_in=player_id\n",
        "\n",
        "\n",
        "\n",
        "**PARTIAL NAME SEARCH**\n",
        "http://lookup-service-prod.mlb.com/json/named.search_player_all.bam?sport_code='mlb'&active_sw='Y'&name_part='young%'&search_player_all.col_in=player_id\n",
        "\n",
        "\n",
        "**PARTIAL NAME SEARCH excluding the results player id**\n",
        "http://lookup-service-prod.mlb.com/json/named.search_player_all.bam?sport_code='mlb'&active_sw='Y'&name_part='young%'&search_player_all.col_ex=player_id\n",
        "\n",
        "\n",
        "\n",
        "**DIVISION STANDINGS/TEAM INFO**\n",
        "```\n",
        "def get_division_standings(league, division)-> pd:\n",
        "    standings = pd.DataFrame( statsapi.standings_data(league)[division]['teams'])\n",
        "    \n",
        "    \n",
        "    standings = standings[['name', 'div_rank', 'gb', 'w', 'l',  'elim_num', 'wc_rank', 'wc_gb', 'wc_elim_num']]\n",
        "    # sorting  in pandas\n",
        "    reverse_standings = standings.sort_values('l')\n",
        "    print(reverse_standings)\n",
        "    # df.describe()  \n",
        "    # df.info()\n",
        "    # print stastistical summary of table in pandas\n",
        "    # print(standings.describe())\n",
        "    return standings\n",
        "    return revserse_standings\n",
        "\n",
        "get_division_standings(103,201)\n",
        "\n",
        "pprint(get_division_standings(103,201))     # AL EAST\n",
        "pprint(get_division_standings(103,202))     # AL CENTRAL\n",
        "pprint(get_division_standings(103,200))     # AL WEST\n",
        "pprint(get_division_standings(104,203))     # NL WEST\n",
        "pprint(get_division_standings(104,204))     # NL EAST\n",
        "pprint(get_division_standings(104,205))     # NL CENTRAL\n",
        "\n",
        "```\n"
      ]
    },
    {
      "cell_type": "code",
      "execution_count": 4,
      "metadata": {
        "collapsed": true,
        "jupyter": {
          "outputs_hidden": false,
          "source_hidden": false
        },
        "nteract": {
          "transient": {
            "deleting": false
          }
        }
      },
      "outputs": [
        {
          "name": "stdout",
          "output_type": "stream",
          "text": [
            "<class 'list'>\n",
            "['Rank Name                 Team                    Value', ' 1   Jeremy Pena          Houston Astros            6  ', ' 2   Seiya Suzuki         Chicago Cubs              4  ', ' 3   Joey Bart            San Francisco Giants      3  ', ' 3   Spencer Torkelson    Detroit Tigers            3  ', ' 5   Jake Burger          Chicago White Sox         2  ', ' 5   Cooper Hummel        Arizona Diamondbacks      2  ', ' 5   Cristian Pache       Oakland Athletics         2  ', ' 8   C.J. Abrams          San Diego Padres          1  ', ' 8   Seth Beer            Arizona Diamondbacks      1  ', ' 8   Diego Castillo       Pittsburgh Pirates        1  ', ' 8   Luis Gonzalez        San Francisco Giants      1  ', ' 8   Steven Kwan          Cleveland Guardians       1  ', ' 8   Josh Lowe            Tampa Bay Rays            1  ', ' 8   Jake McCarthy        Arizona Diamondbacks      1  ', ' 8   Rene Pinto           Tampa Bay Rays            1  ', ' 8   Alfonso Rivas        Chicago Cubs              1  ', ' 8   Julio Rodriguez      Seattle Mariners          1  ', ' 8   Jose Siri            Houston Astros            1  ', ' 8   Kevin Smith          Oakland Athletics         1  ', ' 8   Bobby Witt Jr.       Kansas City Royals        1  ', '']\n"
          ]
        }
      ],
      "source": [
        "# USING LEAGUE LEADERS\n",
        "rookie_hr_leaders = statsapi.league_leaders('homeRuns', season=2022, playerPool = 'rookies', limit=15)\n",
        "rookie_hr_leaders = rookie_hr_leaders.split('\\n') \n",
        "print(type(rookie_hr_leaders))\n",
        "print(rookie_hr_leaders)"
      ]
    },
    {
      "cell_type": "code",
      "execution_count": 5,
      "metadata": {},
      "outputs": [],
      "source": [
        "# DICT RETURN FUNCTIONS\n"
      ]
    },
    {
      "cell_type": "code",
      "execution_count": null,
      "metadata": {},
      "outputs": [],
      "source": []
    },
    {
      "cell_type": "code",
      "execution_count": null,
      "metadata": {},
      "outputs": [],
      "source": []
    },
    {
      "cell_type": "code",
      "execution_count": null,
      "metadata": {},
      "outputs": [],
      "source": []
    },
    {
      "cell_type": "code",
      "execution_count": null,
      "metadata": {},
      "outputs": [],
      "source": []
    },
    {
      "cell_type": "code",
      "execution_count": null,
      "metadata": {},
      "outputs": [],
      "source": []
    },
    {
      "cell_type": "code",
      "execution_count": null,
      "metadata": {},
      "outputs": [],
      "source": []
    }
  ],
  "metadata": {
    "interpreter": {
      "hash": "09869d035f101caafed549a4212ae01dfb7e83743c9a470c9f0f45b4585cc1ca"
    },
    "kernel_info": {
      "name": "python3910jvsc74a57bd07820d5683fe92bc6acbecae01f52250c44925d8affc3946a5cb82bf32033c47c"
    },
    "kernelspec": {
      "display_name": "Python 3.9.12 ('MLBstatsapi-thFTp9Gp')",
      "language": "python",
      "name": "python3"
    },
    "language_info": {
      "codemirror_mode": {
        "name": "ipython",
        "version": 3
      },
      "file_extension": ".py",
      "mimetype": "text/x-python",
      "name": "python",
      "nbconvert_exporter": "python",
      "pygments_lexer": "ipython3",
      "version": "3.9.12"
    },
    "nteract": {
      "version": "0.28.0"
    }
  },
  "nbformat": 4,
  "nbformat_minor": 0
}
