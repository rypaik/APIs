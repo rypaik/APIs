{
 "cells": [
  {
   "cell_type": "code",
   "execution_count": 19,
   "metadata": {},
   "outputs": [],
   "source": [
    "import statsapi\n",
    "import pandas as pd\n",
    "from pprint import pprint"
   ]
  },
  {
   "cell_type": "code",
   "execution_count": 20,
   "metadata": {},
   "outputs": [],
   "source": [
    "\n",
    "# import logging\n",
    "# logger = logging.getLogger('statsapi')\n",
    "# logger.setLevel(logging.DEBUG)\n",
    "# rootLogger = logging.getLogger()\n",
    "# rootLogger.setLevel(logging.DEBUG)\n",
    "# ch = logging.StreamHandler()\n",
    "# formatter = logging.Formatter(\"%(asctime)s - %(levelname)8s - %(name)s(%(thread)s) - %(message)s\")\n",
    "# ch.setFormatter(formatter)\n",
    "# rootLogger.addHandler(ch)"
   ]
  },
  {
   "cell_type": "code",
   "execution_count": 21,
   "metadata": {},
   "outputs": [],
   "source": [
    "gamePK = 662048"
   ]
  },
  {
   "cell_type": "markdown",
   "metadata": {},
   "source": [
    "_______"
   ]
  },
  {
   "cell_type": "markdown",
   "metadata": {},
   "source": [
    "### statsapi.boxscore_data\n",
    "\"\"\"\n",
    "statsapi.boxscore_data(gamePk, timecode=None)\n",
    "\"\"\"\n"
   ]
  },
  {
   "cell_type": "code",
   "execution_count": 22,
   "metadata": {},
   "outputs": [
    {
     "name": "stderr",
     "output_type": "stream",
     "text": [
      "2022-05-18 12:11:14,523 -    DEBUG - statsapi(140412083974144) - URL: https://statsapi.mlb.com/api/{ver}/game/{gamePk}/feed/live\n",
      "2022-05-18 12:11:14,523 -    DEBUG - statsapi(140412083974144) - Found path param: gamePk\n",
      "2022-05-18 12:11:14,524 -    DEBUG - statsapi(140412083974144) - Found query param: fields\n",
      "2022-05-18 12:11:14,524 -    DEBUG - statsapi(140412083974144) - path_params: {'gamePk': '662048'}\n",
      "2022-05-18 12:11:14,525 -    DEBUG - statsapi(140412083974144) - query_params: {'fields': 'gameData,game,teams,teamName,shortName,teamStats,batting,atBats,runs,hits,doubles,triples,homeRuns,rbi,stolenBases,strikeOuts,baseOnBalls,leftOnBase,pitching,inningsPitched,earnedRuns,homeRuns,players,boxscoreName,liveData,boxscore,teams,players,id,fullName,allPositions,abbreviation,seasonStats,batting,avg,ops,obp,slg,era,pitchesThrown,strikes,battingOrder,info,title,fieldList,note,label,value,wins,losses,holds,blownSaves'}\n",
      "2022-05-18 12:11:14,525 -    DEBUG - statsapi(140412083974144) - Replacing {gamePk}\n",
      "2022-05-18 12:11:14,527 -    DEBUG - statsapi(140412083974144) - URL: https://statsapi.mlb.com/api/{ver}/game/662048/feed/live\n",
      "2022-05-18 12:11:14,527 -    DEBUG - statsapi(140412083974144) - Replacing {ver} with default: v1.1.\n",
      "2022-05-18 12:11:14,528 -    DEBUG - statsapi(140412083974144) - URL: https://statsapi.mlb.com/api/v1.1/game/662048/feed/live\n",
      "2022-05-18 12:11:14,528 -    DEBUG - statsapi(140412083974144) - Adding query parameter fields=gameData,game,teams,teamName,shortName,teamStats,batting,atBats,runs,hits,doubles,triples,homeRuns,rbi,stolenBases,strikeOuts,baseOnBalls,leftOnBase,pitching,inningsPitched,earnedRuns,homeRuns,players,boxscoreName,liveData,boxscore,teams,players,id,fullName,allPositions,abbreviation,seasonStats,batting,avg,ops,obp,slg,era,pitchesThrown,strikes,battingOrder,info,title,fieldList,note,label,value,wins,losses,holds,blownSaves\n",
      "2022-05-18 12:11:14,528 -    DEBUG - statsapi(140412083974144) - URL: https://statsapi.mlb.com/api/v1.1/game/662048/feed/live?fields=gameData,game,teams,teamName,shortName,teamStats,batting,atBats,runs,hits,doubles,triples,homeRuns,rbi,stolenBases,strikeOuts,baseOnBalls,leftOnBase,pitching,inningsPitched,earnedRuns,homeRuns,players,boxscoreName,liveData,boxscore,teams,players,id,fullName,allPositions,abbreviation,seasonStats,batting,avg,ops,obp,slg,era,pitchesThrown,strikes,battingOrder,info,title,fieldList,note,label,value,wins,losses,holds,blownSaves\n",
      "2022-05-18 12:11:14,532 -    DEBUG - urllib3.connectionpool(140412083974144) - Starting new HTTPS connection (1): statsapi.mlb.com:443\n",
      "2022-05-18 12:11:14,846 -    DEBUG - urllib3.connectionpool(140412083974144) - https://statsapi.mlb.com:443 \"GET /api/v1.1/game/662048/feed/live?fields=gameData,game,teams,teamName,shortName,teamStats,batting,atBats,runs,hits,doubles,triples,homeRuns,rbi,stolenBases,strikeOuts,baseOnBalls,leftOnBase,pitching,inningsPitched,earnedRuns,homeRuns,players,boxscoreName,liveData,boxscore,teams,players,id,fullName,allPositions,abbreviation,seasonStats,batting,avg,ops,obp,slg,era,pitchesThrown,strikes,battingOrder,info,title,fieldList,note,label,value,wins,losses,holds,blownSaves HTTP/1.1\" 200 None\n"
     ]
    },
    {
     "name": "stdout",
     "output_type": "stream",
     "text": [
      "<class 'dict'>\n"
     ]
    }
   ],
   "source": [
    "boxscore = statsapi.boxscore_data( gamePK , timecode=None)\n",
    "print(type(boxscore))   # dict \n"
   ]
  },
  {
   "cell_type": "markdown",
   "metadata": {},
   "source": [
    "---------"
   ]
  },
  {
   "cell_type": "markdown",
   "metadata": {},
   "source": [
    "#### statsapi.game_highlght_data()\n",
    "statsapi.game_highlight_data(gamePk)\n"
   ]
  },
  {
   "cell_type": "code",
   "execution_count": 23,
   "metadata": {},
   "outputs": [
    {
     "name": "stderr",
     "output_type": "stream",
     "text": [
      "2022-05-18 12:11:15,402 -    DEBUG - statsapi(140412083974144) - URL: https://statsapi.mlb.com/api/{ver}/schedule\n",
      "2022-05-18 12:11:15,403 -    DEBUG - statsapi(140412083974144) - Found query param: sportId\n",
      "2022-05-18 12:11:15,403 -    DEBUG - statsapi(140412083974144) - Found query param: gamePk\n",
      "2022-05-18 12:11:15,403 -    DEBUG - statsapi(140412083974144) - Found query param: hydrate\n",
      "2022-05-18 12:11:15,404 -    DEBUG - statsapi(140412083974144) - Found query param: fields\n",
      "2022-05-18 12:11:15,404 -    DEBUG - statsapi(140412083974144) - path_params: {}\n",
      "2022-05-18 12:11:15,404 -    DEBUG - statsapi(140412083974144) - query_params: {'sportId': '1', 'gamePk': '662048', 'hydrate': 'game(content(highlights(highlights)))', 'fields': 'dates,date,games,gamePk,content,highlights,items,headline,type,value,title,description,duration,playbacks,name,url'}\n",
      "2022-05-18 12:11:15,404 -    DEBUG - statsapi(140412083974144) - Replacing {ver} with default: v1.\n",
      "2022-05-18 12:11:15,404 -    DEBUG - statsapi(140412083974144) - URL: https://statsapi.mlb.com/api/v1/schedule\n",
      "2022-05-18 12:11:15,404 -    DEBUG - statsapi(140412083974144) - Adding query parameter sportId=1\n",
      "2022-05-18 12:11:15,405 -    DEBUG - statsapi(140412083974144) - URL: https://statsapi.mlb.com/api/v1/schedule?sportId=1\n",
      "2022-05-18 12:11:15,405 -    DEBUG - statsapi(140412083974144) - Adding query parameter gamePk=662048\n",
      "2022-05-18 12:11:15,405 -    DEBUG - statsapi(140412083974144) - URL: https://statsapi.mlb.com/api/v1/schedule?sportId=1&gamePk=662048\n",
      "2022-05-18 12:11:15,405 -    DEBUG - statsapi(140412083974144) - Adding query parameter hydrate=game(content(highlights(highlights)))\n",
      "2022-05-18 12:11:15,405 -    DEBUG - statsapi(140412083974144) - URL: https://statsapi.mlb.com/api/v1/schedule?sportId=1&gamePk=662048&hydrate=game(content(highlights(highlights)))\n",
      "2022-05-18 12:11:15,405 -    DEBUG - statsapi(140412083974144) - Adding query parameter fields=dates,date,games,gamePk,content,highlights,items,headline,type,value,title,description,duration,playbacks,name,url\n",
      "2022-05-18 12:11:15,406 -    DEBUG - statsapi(140412083974144) - URL: https://statsapi.mlb.com/api/v1/schedule?sportId=1&gamePk=662048&hydrate=game(content(highlights(highlights)))&fields=dates,date,games,gamePk,content,highlights,items,headline,type,value,title,description,duration,playbacks,name,url\n",
      "2022-05-18 12:11:15,408 -    DEBUG - urllib3.connectionpool(140412083974144) - Starting new HTTPS connection (1): statsapi.mlb.com:443\n",
      "2022-05-18 12:11:15,712 -    DEBUG - urllib3.connectionpool(140412083974144) - https://statsapi.mlb.com:443 \"GET /api/v1/schedule?sportId=1&gamePk=662048&hydrate=game(content(highlights(highlights)))&fields=dates,date,games,gamePk,content,highlights,items,headline,type,value,title,description,duration,playbacks,name,url HTTP/1.1\" 200 None\n"
     ]
    },
    {
     "name": "stdout",
     "output_type": "stream",
     "text": [
      "<class 'list'>\n"
     ]
    }
   ],
   "source": [
    "\n",
    "# statsapi.game_highlight_data(gamePk)\n",
    "highlights = statsapi.game_highlight_data(gamePK)\n",
    "print(type(highlights))         # retlurns list of lists of"
   ]
  },
  {
   "cell_type": "code",
   "execution_count": 24,
   "metadata": {},
   "outputs": [
    {
     "name": "stderr",
     "output_type": "stream",
     "text": [
      "2022-05-18 12:11:15,824 -    DEBUG - statsapi(140412083974144) - URL: https://statsapi.mlb.com/api/{ver}/schedule\n",
      "2022-05-18 12:11:15,825 -    DEBUG - statsapi(140412083974144) - Found query param: sportId\n",
      "2022-05-18 12:11:15,825 -    DEBUG - statsapi(140412083974144) - Found query param: gamePk\n",
      "2022-05-18 12:11:15,826 -    DEBUG - statsapi(140412083974144) - Found query param: hydrate\n",
      "2022-05-18 12:11:15,826 -    DEBUG - statsapi(140412083974144) - Found query param: fields\n",
      "2022-05-18 12:11:15,826 -    DEBUG - statsapi(140412083974144) - path_params: {}\n",
      "2022-05-18 12:11:15,827 -    DEBUG - statsapi(140412083974144) - query_params: {'sportId': '1', 'gamePk': '662048', 'hydrate': 'game(content(highlights(highlights)))', 'fields': 'dates,date,games,gamePk,content,highlights,items,headline,type,value,title,description,duration,playbacks,name,url'}\n",
      "2022-05-18 12:11:15,827 -    DEBUG - statsapi(140412083974144) - Replacing {ver} with default: v1.\n",
      "2022-05-18 12:11:15,827 -    DEBUG - statsapi(140412083974144) - URL: https://statsapi.mlb.com/api/v1/schedule\n",
      "2022-05-18 12:11:15,828 -    DEBUG - statsapi(140412083974144) - Adding query parameter sportId=1\n",
      "2022-05-18 12:11:15,828 -    DEBUG - statsapi(140412083974144) - URL: https://statsapi.mlb.com/api/v1/schedule?sportId=1\n",
      "2022-05-18 12:11:15,828 -    DEBUG - statsapi(140412083974144) - Adding query parameter gamePk=662048\n",
      "2022-05-18 12:11:15,829 -    DEBUG - statsapi(140412083974144) - URL: https://statsapi.mlb.com/api/v1/schedule?sportId=1&gamePk=662048\n",
      "2022-05-18 12:11:15,829 -    DEBUG - statsapi(140412083974144) - Adding query parameter hydrate=game(content(highlights(highlights)))\n",
      "2022-05-18 12:11:15,829 -    DEBUG - statsapi(140412083974144) - URL: https://statsapi.mlb.com/api/v1/schedule?sportId=1&gamePk=662048&hydrate=game(content(highlights(highlights)))\n",
      "2022-05-18 12:11:15,830 -    DEBUG - statsapi(140412083974144) - Adding query parameter fields=dates,date,games,gamePk,content,highlights,items,headline,type,value,title,description,duration,playbacks,name,url\n",
      "2022-05-18 12:11:15,830 -    DEBUG - statsapi(140412083974144) - URL: https://statsapi.mlb.com/api/v1/schedule?sportId=1&gamePk=662048&hydrate=game(content(highlights(highlights)))&fields=dates,date,games,gamePk,content,highlights,items,headline,type,value,title,description,duration,playbacks,name,url\n",
      "2022-05-18 12:11:15,834 -    DEBUG - urllib3.connectionpool(140412083974144) - Starting new HTTPS connection (1): statsapi.mlb.com:443\n",
      "2022-05-18 12:11:16,108 -    DEBUG - urllib3.connectionpool(140412083974144) - https://statsapi.mlb.com:443 \"GET /api/v1/schedule?sportId=1&gamePk=662048&hydrate=game(content(highlights(highlights)))&fields=dates,date,games,gamePk,content,highlights,items,headline,type,value,title,description,duration,playbacks,name,url HTTP/1.1\" 200 None\n",
      "2022-05-18 12:11:16,153 -    DEBUG - statsapi(140412083974144) - URL: https://statsapi.mlb.com/api/{ver}/teams/{teamId}\n",
      "2022-05-18 12:11:16,154 -    DEBUG - statsapi(140412083974144) - Found path param: teamId\n",
      "2022-05-18 12:11:16,154 -    DEBUG - statsapi(140412083974144) - Found query param: hydrate\n",
      "2022-05-18 12:11:16,154 -    DEBUG - statsapi(140412083974144) - Found query param: fields\n",
      "2022-05-18 12:11:16,155 -    DEBUG - statsapi(140412083974144) - path_params: {'teamId': '143'}\n",
      "2022-05-18 12:11:16,155 -    DEBUG - statsapi(140412083974144) - query_params: {'hydrate': 'previousSchedule', 'fields': 'teams,team,id,previousGameSchedule,dates,date,games,gamePk,gameDate,status,abstractGameCode'}\n",
      "2022-05-18 12:11:16,155 -    DEBUG - statsapi(140412083974144) - Replacing {teamId}\n",
      "2022-05-18 12:11:16,156 -    DEBUG - statsapi(140412083974144) - URL: https://statsapi.mlb.com/api/{ver}/teams/143\n",
      "2022-05-18 12:11:16,156 -    DEBUG - statsapi(140412083974144) - Replacing {ver} with default: v1.\n",
      "2022-05-18 12:11:16,156 -    DEBUG - statsapi(140412083974144) - URL: https://statsapi.mlb.com/api/v1/teams/143\n",
      "2022-05-18 12:11:16,157 -    DEBUG - statsapi(140412083974144) - Adding query parameter hydrate=previousSchedule\n",
      "2022-05-18 12:11:16,157 -    DEBUG - statsapi(140412083974144) - URL: https://statsapi.mlb.com/api/v1/teams/143?hydrate=previousSchedule\n",
      "2022-05-18 12:11:16,157 -    DEBUG - statsapi(140412083974144) - Adding query parameter fields=teams,team,id,previousGameSchedule,dates,date,games,gamePk,gameDate,status,abstractGameCode\n",
      "2022-05-18 12:11:16,158 -    DEBUG - statsapi(140412083974144) - URL: https://statsapi.mlb.com/api/v1/teams/143?hydrate=previousSchedule&fields=teams,team,id,previousGameSchedule,dates,date,games,gamePk,gameDate,status,abstractGameCode\n",
      "2022-05-18 12:11:16,161 -    DEBUG - urllib3.connectionpool(140412083974144) - Starting new HTTPS connection (1): statsapi.mlb.com:443\n",
      "2022-05-18 12:11:16,498 -    DEBUG - urllib3.connectionpool(140412083974144) - https://statsapi.mlb.com:443 \"GET /api/v1/teams/143?hydrate=previousSchedule&fields=teams,team,id,previousGameSchedule,dates,date,games,gamePk,gameDate,status,abstractGameCode HTTP/1.1\" 200 None\n",
      "2022-05-18 12:11:16,500 -    DEBUG - statsapi(140412083974144) - URL: https://statsapi.mlb.com/api/{ver}/schedule\n",
      "2022-05-18 12:11:16,500 -    DEBUG - statsapi(140412083974144) - Found query param: sportId\n",
      "2022-05-18 12:11:16,501 -    DEBUG - statsapi(140412083974144) - Found query param: gamePk\n",
      "2022-05-18 12:11:16,501 -    DEBUG - statsapi(140412083974144) - Found query param: hydrate\n",
      "2022-05-18 12:11:16,501 -    DEBUG - statsapi(140412083974144) - Found query param: fields\n",
      "2022-05-18 12:11:16,502 -    DEBUG - statsapi(140412083974144) - path_params: {}\n",
      "2022-05-18 12:11:16,502 -    DEBUG - statsapi(140412083974144) - query_params: {'sportId': '1', 'gamePk': '661625', 'hydrate': 'game(content(highlights(highlights)))', 'fields': 'dates,date,games,gamePk,content,highlights,items,headline,type,value,title,description,duration,playbacks,name,url'}\n",
      "2022-05-18 12:11:16,502 -    DEBUG - statsapi(140412083974144) - Replacing {ver} with default: v1.\n",
      "2022-05-18 12:11:16,503 -    DEBUG - statsapi(140412083974144) - URL: https://statsapi.mlb.com/api/v1/schedule\n",
      "2022-05-18 12:11:16,503 -    DEBUG - statsapi(140412083974144) - Adding query parameter sportId=1\n",
      "2022-05-18 12:11:16,503 -    DEBUG - statsapi(140412083974144) - URL: https://statsapi.mlb.com/api/v1/schedule?sportId=1\n",
      "2022-05-18 12:11:16,504 -    DEBUG - statsapi(140412083974144) - Adding query parameter gamePk=661625\n",
      "2022-05-18 12:11:16,504 -    DEBUG - statsapi(140412083974144) - URL: https://statsapi.mlb.com/api/v1/schedule?sportId=1&gamePk=661625\n",
      "2022-05-18 12:11:16,504 -    DEBUG - statsapi(140412083974144) - Adding query parameter hydrate=game(content(highlights(highlights)))\n",
      "2022-05-18 12:11:16,505 -    DEBUG - statsapi(140412083974144) - URL: https://statsapi.mlb.com/api/v1/schedule?sportId=1&gamePk=661625&hydrate=game(content(highlights(highlights)))\n",
      "2022-05-18 12:11:16,505 -    DEBUG - statsapi(140412083974144) - Adding query parameter fields=dates,date,games,gamePk,content,highlights,items,headline,type,value,title,description,duration,playbacks,name,url\n",
      "2022-05-18 12:11:16,505 -    DEBUG - statsapi(140412083974144) - URL: https://statsapi.mlb.com/api/v1/schedule?sportId=1&gamePk=661625&hydrate=game(content(highlights(highlights)))&fields=dates,date,games,gamePk,content,highlights,items,headline,type,value,title,description,duration,playbacks,name,url\n",
      "2022-05-18 12:11:16,509 -    DEBUG - urllib3.connectionpool(140412083974144) - Starting new HTTPS connection (1): statsapi.mlb.com:443\n",
      "2022-05-18 12:11:16,778 -    DEBUG - urllib3.connectionpool(140412083974144) - https://statsapi.mlb.com:443 \"GET /api/v1/schedule?sportId=1&gamePk=661625&hydrate=game(content(highlights(highlights)))&fields=dates,date,games,gamePk,content,highlights,items,headline,type,value,title,description,duration,playbacks,name,url HTTP/1.1\" 200 None\n"
     ]
    },
    {
     "name": "stdout",
     "output_type": "stream",
     "text": [
      "Mike Clevinger escapes a jam (00:00:14)\n",
      "Mike Clevinger induces a groundout for the third out, escaping a jam and keeping the game scoreless in the bottom of the 2nd\n",
      "https://mlb-cuts-diamond.mlb.com/FORGE/2022/2022-05/17/23832446-b6b8132b-f98187b9-csvm-diamondx64-asset_1280x720_59_4000K.mp4\n",
      "\n",
      "Austin Nola's RBI forceout (00:00:35)\n",
      "Austin Nola grounds into a forceout and Wil Myers runs home to open the scoring at 1-0 in the top of the 5th inning\n",
      "https://mlb-cuts-diamond.mlb.com/FORGE/2022/2022-05/17/06b6a7b6-c0aebfa7-9f8548ab-csvm-diamondx64-asset_1280x720_59_4000K.mp4\n",
      "\n",
      "Robinson Canó's infield single (00:00:41)\n",
      "Robinson Canó records his first hit with the Padres, an infield single, in the top of the 5th inning\n",
      "https://mlb-cuts-diamond.mlb.com/FORGE/2022/2022-05/17/5fbe2fc8-7b15e9e0-dc76fe07-csvm-diamondx64-asset_1280x720_59_4000K.mp4\n",
      "\n",
      "Zach Eflin ends the threat (00:00:17)\n",
      "Zach Eflin gets Jurickson Profar to fly out for the third out, stranding runners on the corners in the top of the 6th inning\n",
      "https://mlb-cuts-diamond.mlb.com/FORGE/2022/2022-05/17/2ac7daab-ecf57986-992cc2c5-csvm-diamondx64-asset_1280x720_59_4000K.mp4\n",
      "\n",
      "Robinson Canó's RBI single (00:00:48)\n",
      "Robinson Canó lines a single to left field and drives in Wil Myers to push the Padres' lead to 2-0 in the top of the 7th\n",
      "https://mlb-cuts-diamond.mlb.com/FORGE/2022/2022-05/17/609c7276-8fab9320-5d2dc79e-csvm-diamondx64-asset_1280x720_59_4000K.mp4\n",
      "\n",
      "Trent Grisham's RBI double (00:00:39)\n",
      "Trent Grisham drills a double to right-center field and drives in Robinson Canó to put the Padres on top 3-0 in the 7th frame\n",
      "https://mlb-cuts-diamond.mlb.com/FORGE/2022/2022-05/17/b3896ec2-488fbdd7-4bb9c5cb-csvm-diamondx64-asset_1280x720_59_4000K.mp4\n",
      "\n",
      "MacKenzie Gore works out of a jam (00:00:13)\n",
      "MacKenzie Gore gets J.T. Realmuto to ground into a forceout, working out of a jam to keep the Padres' 3-0 lead intact in the 7th inning\n",
      "https://mlb-cuts-diamond.mlb.com/FORGE/2022/2022-05/17/0cc264f8-b87c1eee-a33d0819-csvm-diamondx64-asset_1280x720_59_4000K.mp4\n",
      "\n",
      "Mike Clevinger fans five (00:01:05)\n",
      "Mike Clevinger fans five batters and tosses five scoreless innings against the Phillies in his start with San Diego\n",
      "https://mlb-cuts-diamond.mlb.com/FORGE/2022/2022-05/17/86dff00f-045e22b0-de73253c-csvm-diamondx64-asset_1280x720_59_4000K.mp4\n",
      "\n",
      "Zach Eflin strikes out five (00:01:20)\n",
      "Zach Eflin strikes out five batters against the Padres over six frames of work in his start with the Phillies\n",
      "https://mlb-cuts-diamond.mlb.com/FORGE/2022/2022-05/17/c0029d3d-b26b7cba-9018f109-csvm-diamondx64-asset_1280x720_59_4000K.mp4\n",
      "\n",
      "Taylor Rogers seals the win (00:00:34)\n",
      "Taylor Rogers induces a double play for the final two outs of the game, sealing the Padres' 3-0 win in the bottom of the 9th\n",
      "https://mlb-cuts-diamond.mlb.com/FORGE/2022/2022-05/17/fd7af7af-98dbff18-fcb04ed5-csvm-diamondx64-asset_1280x720_59_4000K.mp4\n",
      "\n",
      "CG: SD@PHI - 5/17/22 (00:07:07)\n",
      "Condensed Game: Mike Clevinger picked up his first win of the season, as the Padres shut out the Phillies, 3-0\n",
      "https://mlb-cuts-diamond.mlb.com/FORGE/2022/2022-05/17/d1295ef3-5666e49c-67958862-csvm-diamondx64-asset_1280x720_59_4000K.mp4\n",
      "\n",
      "Padres vs. Phillies Highlights (00:02:42)\n",
      "Mike Clevinger picked up his first win of the season as the Padres shut out the Phillies, 3-0\n",
      "https://mlb-cuts-diamond.mlb.com/FORGE/2022/2022-05/17/4cad969c-b318654a-3984d920-csvm-diamondx64-asset_1280x720_59_4000K.mp4\n",
      "\n",
      "Joe Girardi on 3-0 loss (00:01:03)\n",
      "Joe Girardi discusses Kyle Schwarber and the Phillies' performance at the plate in a shutout loss to the Padres\n",
      "https://mlb-cuts-diamond.mlb.com/FORGE/2022/2022-05/17/2ad3f7d1-331c1682-5282aef8-csvm-diamondx64-asset_1280x720_59_4000K.mp4\n",
      "\n",
      "Ryan Christenson on 3-0 win (00:02:19)\n",
      "Padres acting manager Ryan Christenson discusses Mike Clevinger, MacKenzie Gore, timely hitting and good baserunning in the 3-0 win\n",
      "https://mlb-cuts-diamond.mlb.com/FORGE/2022/2022-05/17/fa605f53-423c10ac-3d494e14-csvm-diamondx64-asset_1280x720_59_4000K.mp4\n",
      "\n",
      "Castellanos, Eflin on 3-0 loss (00:00:45)\n",
      "Nick Castellanos and Zach Eflin discuss the Phillies' 3-0 loss to the Padres\n",
      "https://mlb-cuts-diamond.mlb.com/FORGE/2022/2022-05/17/f6229922-a4c2b6e5-50c46f0e-csvm-diamondx64-asset_1280x720_59_4000K.mp4\n",
      "\n",
      "\n"
     ]
    }
   ],
   "source": [
    "video_highlights = statsapi.game_highlights(gamePK)\n",
    "print( statsapi.game_highlights( statsapi.last_game(143) ) )"
   ]
  },
  {
   "cell_type": "markdown",
   "metadata": {},
   "source": [
    "------\n",
    "#### statsapi.game_pace()\n",
    "statsapi.game_pace(season=datetime.now().year, sportId=1)\n",
    "\n",
    "\n"
   ]
  },
  {
   "cell_type": "code",
   "execution_count": 30,
   "metadata": {},
   "outputs": [
    {
     "name": "stderr",
     "output_type": "stream",
     "text": [
      "2022-05-18 12:25:05,294 -    DEBUG - statsapi(140412083974144) - URL: https://statsapi.mlb.com/api/{ver}/gamePace\n",
      "2022-05-18 12:25:05,295 -    DEBUG - statsapi(140412083974144) - Found query param: season\n",
      "2022-05-18 12:25:05,295 -    DEBUG - statsapi(140412083974144) - Found query param: sportId\n",
      "2022-05-18 12:25:05,295 -    DEBUG - statsapi(140412083974144) - path_params: {}\n",
      "2022-05-18 12:25:05,296 -    DEBUG - statsapi(140412083974144) - query_params: {'season': '2008', 'sportId': '1'}\n",
      "2022-05-18 12:25:05,296 -    DEBUG - statsapi(140412083974144) - Replacing {ver} with default: v1.\n",
      "2022-05-18 12:25:05,296 -    DEBUG - statsapi(140412083974144) - URL: https://statsapi.mlb.com/api/v1/gamePace\n",
      "2022-05-18 12:25:05,297 -    DEBUG - statsapi(140412083974144) - Adding query parameter season=2008\n",
      "2022-05-18 12:25:05,297 -    DEBUG - statsapi(140412083974144) - URL: https://statsapi.mlb.com/api/v1/gamePace?season=2008\n",
      "2022-05-18 12:25:05,297 -    DEBUG - statsapi(140412083974144) - Adding query parameter sportId=1\n",
      "2022-05-18 12:25:05,298 -    DEBUG - statsapi(140412083974144) - URL: https://statsapi.mlb.com/api/v1/gamePace?season=2008&sportId=1\n",
      "2022-05-18 12:25:05,301 -    DEBUG - urllib3.connectionpool(140412083974144) - Starting new HTTPS connection (1): statsapi.mlb.com:443\n",
      "2022-05-18 12:25:05,484 -    DEBUG - urllib3.connectionpool(140412083974144) - https://statsapi.mlb.com:443 \"GET /api/v1/gamePace?season=2008&sportId=1 HTTP/1.1\" 200 None\n"
     ]
    },
    {
     "name": "stdout",
     "output_type": "stream",
     "text": [
      "<class 'str'>\n"
     ]
    }
   ],
   "source": [
    "game_pace = statsapi.game_pace(2008)\n",
    "print(type(game_pace))   # -> str"
   ]
  },
  {
   "cell_type": "markdown",
   "metadata": {},
   "source": [
    "-----\n",
    "#### statsapi.game_pace_data()\n"
   ]
  },
  {
   "cell_type": "code",
   "execution_count": 35,
   "metadata": {},
   "outputs": [
    {
     "name": "stderr",
     "output_type": "stream",
     "text": [
      "2022-05-18 12:27:08,508 -    DEBUG - statsapi(140412083974144) - URL: https://statsapi.mlb.com/api/{ver}/gamePace\n",
      "2022-05-18 12:27:08,509 -    DEBUG - statsapi(140412083974144) - Found query param: season\n",
      "2022-05-18 12:27:08,509 -    DEBUG - statsapi(140412083974144) - Found query param: sportId\n",
      "2022-05-18 12:27:08,509 -    DEBUG - statsapi(140412083974144) - path_params: {}\n",
      "2022-05-18 12:27:08,509 -    DEBUG - statsapi(140412083974144) - query_params: {'season': '2022', 'sportId': '1'}\n",
      "2022-05-18 12:27:08,510 -    DEBUG - statsapi(140412083974144) - Replacing {ver} with default: v1.\n",
      "2022-05-18 12:27:08,510 -    DEBUG - statsapi(140412083974144) - URL: https://statsapi.mlb.com/api/v1/gamePace\n",
      "2022-05-18 12:27:08,510 -    DEBUG - statsapi(140412083974144) - Adding query parameter season=2022\n",
      "2022-05-18 12:27:08,510 -    DEBUG - statsapi(140412083974144) - URL: https://statsapi.mlb.com/api/v1/gamePace?season=2022\n",
      "2022-05-18 12:27:08,511 -    DEBUG - statsapi(140412083974144) - Adding query parameter sportId=1\n",
      "2022-05-18 12:27:08,511 -    DEBUG - statsapi(140412083974144) - URL: https://statsapi.mlb.com/api/v1/gamePace?season=2022&sportId=1\n",
      "2022-05-18 12:27:08,513 -    DEBUG - urllib3.connectionpool(140412083974144) - Starting new HTTPS connection (1): statsapi.mlb.com:443\n",
      "2022-05-18 12:27:08,801 -    DEBUG - urllib3.connectionpool(140412083974144) - https://statsapi.mlb.com:443 \"GET /api/v1/gamePace?season=2022&sportId=1 HTTP/1.1\" 200 None\n",
      "2022-05-18 12:27:08,803 -    DEBUG - statsapi(140412083974144) - URL: https://statsapi.mlb.com/api/{ver}/gamePace\n",
      "2022-05-18 12:27:08,803 -    DEBUG - statsapi(140412083974144) - Found query param: season\n",
      "2022-05-18 12:27:08,804 -    DEBUG - statsapi(140412083974144) - Found query param: sportId\n",
      "2022-05-18 12:27:08,804 -    DEBUG - statsapi(140412083974144) - path_params: {}\n",
      "2022-05-18 12:27:08,804 -    DEBUG - statsapi(140412083974144) - query_params: {'season': '2008', 'sportId': '1'}\n",
      "2022-05-18 12:27:08,804 -    DEBUG - statsapi(140412083974144) - Replacing {ver} with default: v1.\n",
      "2022-05-18 12:27:08,805 -    DEBUG - statsapi(140412083974144) - URL: https://statsapi.mlb.com/api/v1/gamePace\n",
      "2022-05-18 12:27:08,805 -    DEBUG - statsapi(140412083974144) - Adding query parameter season=2008\n",
      "2022-05-18 12:27:08,805 -    DEBUG - statsapi(140412083974144) - URL: https://statsapi.mlb.com/api/v1/gamePace?season=2008\n",
      "2022-05-18 12:27:08,806 -    DEBUG - statsapi(140412083974144) - Adding query parameter sportId=1\n",
      "2022-05-18 12:27:08,806 -    DEBUG - statsapi(140412083974144) - URL: https://statsapi.mlb.com/api/v1/gamePace?season=2008&sportId=1\n",
      "2022-05-18 12:27:08,808 -    DEBUG - urllib3.connectionpool(140412083974144) - Starting new HTTPS connection (1): statsapi.mlb.com:443\n",
      "2022-05-18 12:27:08,951 -    DEBUG - urllib3.connectionpool(140412083974144) - https://statsapi.mlb.com:443 \"GET /api/v1/gamePace?season=2008&sportId=1 HTTP/1.1\" 200 None\n"
     ]
    },
    {
     "data": {
      "text/plain": [
       "{'copyright': 'Copyright 2022 MLB Advanced Media, L.P.  Use of any content on this page acknowledges agreement to the terms posted here http://gdx.mlb.com/components/copyright.txt',\n",
       " 'teams': [],\n",
       " 'leagues': [],\n",
       " 'sports': [{'hitsPer9Inn': 18.26,\n",
       "   'runsPer9Inn': 9.38,\n",
       "   'pitchesPer9Inn': 296.47,\n",
       "   'plateAppearancesPer9Inn': 77.9,\n",
       "   'hitsPerGame': 18.11,\n",
       "   'runsPerGame': 9.3,\n",
       "   'inningsPlayedPerGame': 8.96,\n",
       "   'pitchesPerGame': 294.12,\n",
       "   'pitchersPerGame': 7.83,\n",
       "   'plateAppearancesPerGame': 77.28,\n",
       "   'totalGameTime': '7086:06:00',\n",
       "   'totalInningsPlayed': 21748.0,\n",
       "   'totalHits': 43972,\n",
       "   'totalRuns': 22585,\n",
       "   'totalPlateAppearances': 187631,\n",
       "   'totalPitchers': 19012,\n",
       "   'totalPitches': 714122,\n",
       "   'totalGames': 2428,\n",
       "   'total7InnGames': 3,\n",
       "   'total9InnGames': 2217,\n",
       "   'totalExtraInnGames': 208,\n",
       "   'timePerGame': '02:55:06',\n",
       "   'timePerPitch': '00:00:35',\n",
       "   'timePerHit': '00:09:40',\n",
       "   'timePerRun': '00:18:49',\n",
       "   'timePerPlateAppearance': '00:02:15',\n",
       "   'timePer9Inn': '02:56:30',\n",
       "   'timePer77PlateAppearances': '02:54:28',\n",
       "   'totalExtraInnTime': '775:09:59',\n",
       "   'timePer7InnGameWithoutExtraInn': '00:00:00',\n",
       "   'total9InnGamesCompletedEarly': 3,\n",
       "   'total9InnGamesWithoutExtraInn': 2217,\n",
       "   'total9InnGamesScheduled': 2428,\n",
       "   'hitsPerRun': 1.947,\n",
       "   'pitchesPerPitcher': 37.562,\n",
       "   'season': '2008',\n",
       "   'sport': {'id': 1, 'code': 'mlb', 'link': '/api/v1/sports/1'},\n",
       "   'prPortalCalculatedFields': {'total7InnGames': 3,\n",
       "    'total9InnGames': 2217,\n",
       "    'totalExtraInnGames': 208,\n",
       "    'timePer7InnGame': '01:54:40',\n",
       "    'timePer9InnGame': '02:50:38',\n",
       "    'timePerExtraInnGame': '03:43:36'}}]}"
      ]
     },
     "execution_count": 35,
     "metadata": {},
     "output_type": "execute_result"
    }
   ],
   "source": [
    "from datetime import datetime\n",
    "# statsapi.game_pace_data(season=datetime.now().year, sportId=1)\n",
    "statsapi.game_pace_data(season=datetime.now().year, sportId=1) \n",
    "\n",
    "statsapi.game_pace_data(2008)\n",
    "\n",
    "# returns dict of with values of list and ints\n",
    "\n",
    "\n"
   ]
  },
  {
   "cell_type": "markdown",
   "metadata": {},
   "source": [
    "-------\n",
    "\n",
    "#### game_scoring_play_data()\n",
    "statsapi.game_scoring_play_data(gamePk)"
   ]
  },
  {
   "cell_type": "code",
   "execution_count": 39,
   "metadata": {},
   "outputs": [
    {
     "name": "stderr",
     "output_type": "stream",
     "text": [
      "2022-05-18 12:31:45,412 -    DEBUG - statsapi(140412083974144) - URL: https://statsapi.mlb.com/api/{ver}/game/{gamePk}/feed/live\n",
      "2022-05-18 12:31:45,413 -    DEBUG - statsapi(140412083974144) - Found path param: gamePk\n",
      "2022-05-18 12:31:45,413 -    DEBUG - statsapi(140412083974144) - Found query param: fields\n",
      "2022-05-18 12:31:45,413 -    DEBUG - statsapi(140412083974144) - path_params: {'gamePk': '662048'}\n",
      "2022-05-18 12:31:45,414 -    DEBUG - statsapi(140412083974144) - query_params: {'fields': 'gamePk,link,gameData,game,pk,teams,away,id,name,teamCode,fileCode,abbreviation,teamName,locationName,shortName,home,liveData,plays,allPlays,scoringPlays,scoringPlays,atBatIndex,result,description,awayScore,homeScore,about,halfInning,inning,endTime'}\n",
      "2022-05-18 12:31:45,414 -    DEBUG - statsapi(140412083974144) - Replacing {gamePk}\n",
      "2022-05-18 12:31:45,414 -    DEBUG - statsapi(140412083974144) - URL: https://statsapi.mlb.com/api/{ver}/game/662048/feed/live\n",
      "2022-05-18 12:31:45,414 -    DEBUG - statsapi(140412083974144) - Replacing {ver} with default: v1.1.\n",
      "2022-05-18 12:31:45,415 -    DEBUG - statsapi(140412083974144) - URL: https://statsapi.mlb.com/api/v1.1/game/662048/feed/live\n",
      "2022-05-18 12:31:45,415 -    DEBUG - statsapi(140412083974144) - Adding query parameter fields=gamePk,link,gameData,game,pk,teams,away,id,name,teamCode,fileCode,abbreviation,teamName,locationName,shortName,home,liveData,plays,allPlays,scoringPlays,scoringPlays,atBatIndex,result,description,awayScore,homeScore,about,halfInning,inning,endTime\n",
      "2022-05-18 12:31:45,415 -    DEBUG - statsapi(140412083974144) - URL: https://statsapi.mlb.com/api/v1.1/game/662048/feed/live?fields=gamePk,link,gameData,game,pk,teams,away,id,name,teamCode,fileCode,abbreviation,teamName,locationName,shortName,home,liveData,plays,allPlays,scoringPlays,scoringPlays,atBatIndex,result,description,awayScore,homeScore,about,halfInning,inning,endTime\n",
      "2022-05-18 12:31:45,417 -    DEBUG - urllib3.connectionpool(140412083974144) - Starting new HTTPS connection (1): statsapi.mlb.com:443\n",
      "2022-05-18 12:31:45,726 -    DEBUG - urllib3.connectionpool(140412083974144) - https://statsapi.mlb.com:443 \"GET /api/v1.1/game/662048/feed/live?fields=gamePk,link,gameData,game,pk,teams,away,id,name,teamCode,fileCode,abbreviation,teamName,locationName,shortName,home,liveData,plays,allPlays,scoringPlays,scoringPlays,atBatIndex,result,description,awayScore,homeScore,about,halfInning,inning,endTime HTTP/1.1\" 200 None\n"
     ]
    },
    {
     "name": "stdout",
     "output_type": "stream",
     "text": [
      "{'away': {'abbreviation': 'NYM',\n",
      "          'fileCode': 'nym',\n",
      "          'id': 121,\n",
      "          'link': '/api/v1/teams/121',\n",
      "          'locationName': 'Flushing',\n",
      "          'name': 'New York Mets',\n",
      "          'shortName': 'NY Mets',\n",
      "          'teamCode': 'nyn',\n",
      "          'teamName': 'Mets'},\n",
      " 'home': {'abbreviation': 'STL',\n",
      "          'fileCode': 'stl',\n",
      "          'id': 138,\n",
      "          'link': '/api/v1/teams/138',\n",
      "          'locationName': 'St. Louis',\n",
      "          'name': 'St. Louis Cardinals',\n",
      "          'shortName': 'St. Louis',\n",
      "          'teamCode': 'sln',\n",
      "          'teamName': 'Cardinals'},\n",
      " 'plays': [{'about': {'atBatIndex': 7,\n",
      "                      'endTime': '2022-04-27T17:35:53.015Z',\n",
      "                      'halfInning': 'bottom',\n",
      "                      'inning': 1},\n",
      "            'atBatIndex': 7,\n",
      "            'result': {'awayScore': 0,\n",
      "                       'description': 'Corey Dickerson singles on a line drive '\n",
      "                                      'to right fielder Starling Marte.   '\n",
      "                                      \"Tyler O'Neill scores.    Nolan Arenado \"\n",
      "                                      'to 3rd.',\n",
      "                       'homeScore': 1}},\n",
      "           {'about': {'atBatIndex': 14,\n",
      "                      'endTime': '2022-04-27T17:55:07.219Z',\n",
      "                      'halfInning': 'top',\n",
      "                      'inning': 2},\n",
      "            'atBatIndex': 14,\n",
      "            'result': {'awayScore': 2,\n",
      "                       'description': 'Tomas Nido doubles (1) on a sharp line '\n",
      "                                      'drive to center fielder Dylan '\n",
      "                                      'Carlson.   Pete Alonso scores.    '\n",
      "                                      'Eduardo Escobar scores.    Luis '\n",
      "                                      'Guillorme to 3rd.',\n",
      "                       'homeScore': 1}},\n",
      "           {'about': {'atBatIndex': 15,\n",
      "                      'endTime': '2022-04-27T17:57:22.669Z',\n",
      "                      'halfInning': 'top',\n",
      "                      'inning': 2},\n",
      "            'atBatIndex': 15,\n",
      "            'result': {'awayScore': 4,\n",
      "                       'description': 'Brandon Nimmo doubles (3) on a line '\n",
      "                                      'drive to center fielder Dylan '\n",
      "                                      'Carlson.   Luis Guillorme scores.    '\n",
      "                                      'Tomas Nido scores.',\n",
      "                       'homeScore': 1}},\n",
      "           {'about': {'atBatIndex': 29,\n",
      "                      'endTime': '2022-04-27T18:26:36.719Z',\n",
      "                      'halfInning': 'bottom',\n",
      "                      'inning': 3},\n",
      "            'atBatIndex': 29,\n",
      "            'result': {'awayScore': 4,\n",
      "                       'description': 'Nolan Arenado singles on a line drive '\n",
      "                                      'to right fielder Starling Marte.   '\n",
      "                                      'Tommy Edman scores.    Paul Goldschmidt '\n",
      "                                      'scores.',\n",
      "                       'homeScore': 3}},\n",
      "           {'about': {'atBatIndex': 38,\n",
      "                      'endTime': '2022-04-27T18:47:55.966Z',\n",
      "                      'halfInning': 'bottom',\n",
      "                      'inning': 4},\n",
      "            'atBatIndex': 38,\n",
      "            'result': {'awayScore': 4,\n",
      "                       'description': 'Tommy Edman doubles (2) on a ground '\n",
      "                                      'ball to right fielder Starling Marte.   '\n",
      "                                      'Yadier Molina scores.    Edmundo Sosa '\n",
      "                                      'to 3rd.',\n",
      "                       'homeScore': 4}},\n",
      "           {'about': {'atBatIndex': 42,\n",
      "                      'endTime': '2022-04-27T18:56:25.702Z',\n",
      "                      'halfInning': 'bottom',\n",
      "                      'inning': 4},\n",
      "            'atBatIndex': 42,\n",
      "            'result': {'awayScore': 4,\n",
      "                       'description': 'Corey Dickerson singles on a soft '\n",
      "                                      'ground ball to pitcher Carlos '\n",
      "                                      'Carrasco.   Tommy Edman scores.    '\n",
      "                                      'Nolan Arenado to 3rd.',\n",
      "                       'homeScore': 6}},\n",
      "           {'about': {'atBatIndex': 43,\n",
      "                      'endTime': '2022-04-27T19:00:42.132Z',\n",
      "                      'halfInning': 'bottom',\n",
      "                      'inning': 4},\n",
      "            'atBatIndex': 43,\n",
      "            'result': {'awayScore': 4,\n",
      "                       'description': 'Dylan Carlson triples (1) on a line '\n",
      "                                      'drive to right fielder Starling '\n",
      "                                      'Marte.   Nolan Arenado scores.    Corey '\n",
      "                                      'Dickerson scores.',\n",
      "                       'homeScore': 8}},\n",
      "           {'about': {'atBatIndex': 56,\n",
      "                      'endTime': '2022-04-27T19:36:31.449Z',\n",
      "                      'halfInning': 'bottom',\n",
      "                      'inning': 6},\n",
      "            'atBatIndex': 56,\n",
      "            'result': {'awayScore': 4,\n",
      "                       'description': 'Nolan Arenado hits a ground-rule double '\n",
      "                                      '(6) on a line drive to left field.   '\n",
      "                                      \"Tyler O'Neill scores.\",\n",
      "                       'homeScore': 9}},\n",
      "           {'about': {'atBatIndex': 63,\n",
      "                      'endTime': '2022-04-27T19:57:44.845Z',\n",
      "                      'halfInning': 'top',\n",
      "                      'inning': 7},\n",
      "            'atBatIndex': 63,\n",
      "            'result': {'awayScore': 5,\n",
      "                       'description': 'Francisco Lindor doubles (5) on a sharp '\n",
      "                                      'line drive to center fielder Harrison '\n",
      "                                      'Bader.   Starling Marte scores.',\n",
      "                       'homeScore': 9}},\n",
      "           {'about': {'atBatIndex': 68,\n",
      "                      'endTime': '2022-04-27T20:07:29.407Z',\n",
      "                      'halfInning': 'bottom',\n",
      "                      'inning': 7},\n",
      "            'atBatIndex': 68,\n",
      "            'result': {'awayScore': 5,\n",
      "                       'description': 'Paul Goldschmidt singles on a line '\n",
      "                                      'drive to center fielder Brandon '\n",
      "                                      'Nimmo.   Tommy Edman scores.',\n",
      "                       'homeScore': 10}}]}\n",
      "<class 'dict'>\n"
     ]
    }
   ],
   "source": [
    "scoring_play = statsapi.game_scoring_play_data(gamePK)\n",
    "pprint(scoring_play)\n",
    "print(type(scoring_play))           # -> dict"
   ]
  },
  {
   "cell_type": "markdown",
   "metadata": {},
   "source": [
    "------\n",
    "\n",
    "#### statsapi.league_leader_data()\n",
    "statsapi.league_leader_data(leaderCategories, season=None, limit=10, statGroup=None, leagueId=None, gameTypes=None, playerPool=None, sportId=1, statType=None)\n",
    "\n",
    "\n",
    "\n",
    "https://github.com/toddrob99/MLB-StatsAPI/wiki/Function:-league_leader_data\n",
    "\n"
   ]
  },
  {
   "cell_type": "markdown",
   "metadata": {},
   "source": []
  },
  {
   "cell_type": "code",
   "execution_count": 45,
   "metadata": {},
   "outputs": [
    {
     "name": "stderr",
     "output_type": "stream",
     "text": [
      "2022-05-18 13:00:37,980 -    DEBUG - statsapi(140412083974144) - URL: https://statsapi.mlb.com/api/{ver}/stats/leaders\n",
      "2022-05-18 13:00:37,981 -    DEBUG - statsapi(140412083974144) - Found query param: leaderCategories\n",
      "2022-05-18 13:00:37,981 -    DEBUG - statsapi(140412083974144) - Found query param: sportId\n",
      "2022-05-18 13:00:37,981 -    DEBUG - statsapi(140412083974144) - Found query param: limit\n",
      "2022-05-18 13:00:37,982 -    DEBUG - statsapi(140412083974144) - Found query param: season\n",
      "2022-05-18 13:00:37,982 -    DEBUG - statsapi(140412083974144) - Found query param: fields\n",
      "2022-05-18 13:00:37,982 -    DEBUG - statsapi(140412083974144) - path_params: {}\n",
      "2022-05-18 13:00:37,983 -    DEBUG - statsapi(140412083974144) - query_params: {'leaderCategories': 'homeRuns', 'sportId': '1', 'limit': '10', 'season': '2022', 'fields': 'leagueLeaders,leaders,rank,value,team,name,league,name,person,fullName'}\n",
      "2022-05-18 13:00:37,983 -    DEBUG - statsapi(140412083974144) - Replacing {ver} with default: v1.\n",
      "2022-05-18 13:00:37,983 -    DEBUG - statsapi(140412083974144) - URL: https://statsapi.mlb.com/api/v1/stats/leaders\n",
      "2022-05-18 13:00:37,984 -    DEBUG - statsapi(140412083974144) - Adding query parameter leaderCategories=homeRuns\n",
      "2022-05-18 13:00:37,984 -    DEBUG - statsapi(140412083974144) - URL: https://statsapi.mlb.com/api/v1/stats/leaders?leaderCategories=homeRuns\n",
      "2022-05-18 13:00:37,984 -    DEBUG - statsapi(140412083974144) - Adding query parameter sportId=1\n",
      "2022-05-18 13:00:37,985 -    DEBUG - statsapi(140412083974144) - URL: https://statsapi.mlb.com/api/v1/stats/leaders?leaderCategories=homeRuns&sportId=1\n",
      "2022-05-18 13:00:37,985 -    DEBUG - statsapi(140412083974144) - Adding query parameter limit=10\n",
      "2022-05-18 13:00:37,985 -    DEBUG - statsapi(140412083974144) - URL: https://statsapi.mlb.com/api/v1/stats/leaders?leaderCategories=homeRuns&sportId=1&limit=10\n",
      "2022-05-18 13:00:37,985 -    DEBUG - statsapi(140412083974144) - Adding query parameter season=2022\n",
      "2022-05-18 13:00:37,986 -    DEBUG - statsapi(140412083974144) - URL: https://statsapi.mlb.com/api/v1/stats/leaders?leaderCategories=homeRuns&sportId=1&limit=10&season=2022\n",
      "2022-05-18 13:00:37,986 -    DEBUG - statsapi(140412083974144) - Adding query parameter fields=leagueLeaders,leaders,rank,value,team,name,league,name,person,fullName\n",
      "2022-05-18 13:00:37,986 -    DEBUG - statsapi(140412083974144) - URL: https://statsapi.mlb.com/api/v1/stats/leaders?leaderCategories=homeRuns&sportId=1&limit=10&season=2022&fields=leagueLeaders,leaders,rank,value,team,name,league,name,person,fullName\n",
      "2022-05-18 13:00:37,990 -    DEBUG - urllib3.connectionpool(140412083974144) - Starting new HTTPS connection (1): statsapi.mlb.com:443\n",
      "2022-05-18 13:00:38,231 -    DEBUG - urllib3.connectionpool(140412083974144) - https://statsapi.mlb.com:443 \"GET /api/v1/stats/leaders?leaderCategories=homeRuns&sportId=1&limit=10&season=2022&fields=leagueLeaders,leaders,rank,value,team,name,league,name,person,fullName HTTP/1.1\" 200 None\n"
     ]
    },
    {
     "name": "stdout",
     "output_type": "stream",
     "text": [
      "[[1, 'Aaron Judge', 'New York Yankees', '14'], [2, 'Yordan Alvarez', 'Houston Astros', '12'], [3, 'Byron Buxton', 'Minnesota Twins', '11'], [4, 'Anthony Rizzo', 'New York Yankees', '10'], [4, 'Giancarlo Stanton', 'New York Yankees', '10'], [4, 'Mike Trout', 'Los Angeles Angels', '10'], [7, 'Willy Adames', 'Milwaukee Brewers', '9'], [7, 'C.J. Cron', 'Colorado Rockies', '9'], [7, 'Bryce Harper', 'Philadelphia Phillies', '9'], [7, 'Hunter Renfroe', 'Milwaukee Brewers', '9'], [7, 'Kyle Schwarber', 'Philadelphia Phillies', '9'], [7, 'Christian Walker', 'Arizona Diamondbacks', '9'], [7, 'Taylor Ward', 'Los Angeles Angels', '9']]\n"
     ]
    }
   ],
   "source": [
    "# league_leader = statsapi.league_leader_data(leaderCategories= ,season=2008)\n",
    "leadue_leader_cat = statsapi.league_leader_data(leaderCategories = \"homeRuns\", season=2022)\n",
    "print(leadue_leader_cat) # list of list"
   ]
  },
  {
   "cell_type": "markdown",
   "metadata": {},
   "source": []
  }
 ],
 "metadata": {
  "interpreter": {
   "hash": "d86f470374f7843d9e5af2cd55a5a1c0e07acc48be67ef7b4452e54b35a7e4b2"
  },
  "kernelspec": {
   "display_name": "Python 3.10.4 ('MLBstatsapi-mE_xXRXh')",
   "language": "python",
   "name": "python3"
  },
  "language_info": {
   "codemirror_mode": {
    "name": "ipython",
    "version": 3
   },
   "file_extension": ".py",
   "mimetype": "text/x-python",
   "name": "python",
   "nbconvert_exporter": "python",
   "pygments_lexer": "ipython3",
   "version": "3.10.4"
  },
  "orig_nbformat": 4
 },
 "nbformat": 4,
 "nbformat_minor": 2
}
