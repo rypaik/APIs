{
 "cells": [
  {
   "cell_type": "code",
   "execution_count": 1,
   "metadata": {},
   "outputs": [],
   "source": [
    "import statsapi\n",
    "import pandas as pd\n",
    "from pprint import pprint"
   ]
  },
  {
   "cell_type": "markdown",
   "metadata": {},
   "source": []
  },
  {
   "cell_type": "code",
   "execution_count": 8,
   "metadata": {},
   "outputs": [
    {
     "name": "stdout",
     "output_type": "stream",
     "text": [
      "('game_id', 'game_datetime', 'game_date', 'game_type', 'status', 'away_name', 'home_name', 'away_id', 'home_id', 'doubleheader', 'game_num', 'home_probable_pitcher', 'away_probable_pitcher', 'home_pitcher_note', 'away_pitcher_note', 'away_score', 'home_score', 'current_inning', 'inning_state', 'venue_id', 'venue_name', 'winning_team', 'losing_team', 'winning_pitcher', 'losing_pitcher', 'save_pitcher', 'summary')\n"
     ]
    }
   ],
   "source": [
    "# TODO: use python date time to use current time\n",
    "\n",
    "# get/update keys to keep help set categories \n",
    "# Used to stay in sync with statsAPI updates\n",
    "def get_schedulefunc_keys()->tuple:\n",
    "    games_list = statsapi.schedule(start_date='05/16/2022',end_date='05/18/2022')\n",
    "    schedule_keys = tuple(games_list[0].keys())\n",
    "    return schedule_keys\n",
    " \n",
    "\n",
    "# tuple for all global keys are being set\n",
    "global_statsapi_keys_map = get_schedulefunc_keys()\n",
    "print(global_statsapi_keys_map)\n",
    "# use variable scope to define a fixed tuple for schedule constants needed\n",
    "\n",
    "\n",
    "\n",
    "def set_statsAPI_(*args, **kwargs):\n",
    "        \"\"\" Helper function to set data from statsapi.schedule\n",
    "        Function parameters:\n",
    "        required: *args = statsapi schedule call with date or date range\n",
    "        Can handle any key from statsapi.schedule key dict\n",
    "        TODO: THESE CAN BE FIELDS FOR FIRESTORE COLLECTION OF GAME DATA - NEEDS TO BE BUILT TO BE ROBUST\n",
    "        \"\"\"\n",
    "        for arg in args:\n",
    "                for key, value in kwargs.items():\n",
    "                        print(key, value)\n",
    "                        if key == arg[0]:\n",
    "                                game_id = value    \n",
    "                        elif key == arg[2]:\n",
    "                                game_date = value\n",
    "                        elif key == arg[5]:\n",
    "                                away_id = value\n",
    "                        elif key == arg[6]:\n",
    "                                home_name  = value        \n",
    "                        elif key == arg[8]:\n",
    "                                home_id = value\n",
    "                        elif key == arg[7]:\n",
    "                                away_id = value\n",
    "\n",
    "\n"
   ]
  },
  {
   "cell_type": "code",
   "execution_count": 3,
   "metadata": {},
   "outputs": [
    {
     "name": "stdout",
     "output_type": "stream",
     "text": [
      "start_date 05/15/2022\n",
      "end_date 05/17/2022\n",
      "05/17/2022\n"
     ]
    }
   ],
   "source": [
    "\n",
    "\n",
    "\n",
    "# TODO:  Python 3.10 and higher - change to switch case from if-elif\n",
    "\n",
    "\n",
    "# dict_keys(['game_id', 'game_datetime', 'game_date', 'game_type', 'status', 'away_name', 'home_name', 'away_id', 'home_id', 'doubleheader', 'game_num', 'home_probable_pitcher', 'away_probable_pitcher', 'home_pitcher_note', 'away_pitcher_note', 'away_score', 'home_score', 'current_inning', 'inning_state', 'venue_id', 'venue_name', 'winning_team', 'losing_team', 'winning_pitcher', 'losing_pitcher', 'save_pitcher', 'summary'])\n",
    "\n",
    "# def get_date_ranges(**kwargs):\n",
    "#         # gamePK=[]\n",
    "#         for key, value in kwargs.items():\n",
    "#                 match key:\n",
    "#                         case \"start_date\":\n",
    "#                                 start_range =  value\n",
    "#                                 return start_range\n",
    "                \n",
    "#                         case _:\n",
    "#                                 pass \n",
    "\n",
    "\n",
    "\n",
    "# ('game_id', 'game_datetime', 'game_date', 'game_type', 'status', 'away_name', 'home_name', 'away_id', 'home_id', 'doubleheader', 'game_num', 'home_probable_pitcher', 'away_probable_pitcher', 'home_pitcher_note', 'away_pitcher_note', 'away_score', 'home_score', 'current_inning', 'inning_state', 'venue_id', 'venue_name', 'winning_team', 'losing_team', 'winning_pitcher', 'losing_pitcher', 'save_pitcher', 'summary')\n",
    "# generic function with *args = tuple  of dict keys\n",
    "# **kwargs are the mulitple parameters that can be queried.. \n",
    "# TODO: make this in to class setter with *args adn **kwargs input\n",
    "# TODO: redo with map() and lambda function                \n",
    "def get_date_ranges(*args, **kwargs):\n",
    "        for arg in args:\n",
    "                for key, value in kwargs.items():\n",
    "                        print(key, value)\n",
    "                        if key == arg[0]:\n",
    "                                game_id = value    \n",
    "                                print(game_id)\n",
    "                        elif key == \"end_date\":\n",
    "                                end_date = value\n",
    "                                print(end_date)\n",
    "\n",
    "                \n",
    "                \n",
    "                # else\n",
    "\n",
    "                # start_range= kwargs['start_date']\n",
    "                # end_range = kwargs['end_date']\n",
    "                \n",
    "                # home_id = kwargs['home_id']\n",
    "                # away_id = kwargs['away_id']\n",
    "                # team = kwargs['team_id']\n",
    "                # return start_range, end_range   \n",
    "                \n",
    "        # statsapi.schedule()\n",
    "\n",
    "\n",
    "                \n",
    "start_input = \"05/15/2022\"\n",
    "end_input =  \"05/17/2022\"\n",
    "\n",
    "\n",
    "\n",
    "\n",
    "get_date_ranges(schedule_keys, start_date =start_input, end_date=end_input) \n",
    "# print(f\"start_date_range: {start_date_range} - end_date_range:{end_date_range}\")\n",
    "\n",
    "# print(type(start_date_range))\n",
    "# print(type(end_date_range))\n",
    "\n",
    "\n"
   ]
  },
  {
   "cell_type": "markdown",
   "metadata": {},
   "source": [
    "------\n"
   ]
  },
  {
   "cell_type": "code",
   "execution_count": null,
   "metadata": {},
   "outputs": [],
   "source": []
  },
  {
   "cell_type": "markdown",
   "metadata": {},
   "source": [
    "#### statsapi.boxscore\n",
    "statsapi.boxscore(gamePk, battingBox=True, battingInfo=True, fieldingInfo=True, pitchingBox=True, gameInfo=True, timecode=None)"
   ]
  },
  {
   "cell_type": "markdown",
   "metadata": {},
   "source": [
    "-----"
   ]
  },
  {
   "cell_type": "markdown",
   "metadata": {},
   "source": [
    "## statsapi.schedule()\n",
    "` statsapi.schedule(date=None, start_date=None, end_date=None, team=\"\", opponent=\"\", sportId=1, game_id=None) `\n",
    "\n",
    "dict_keys(['game_id', 'game_datetime', 'game_date', 'game_type', 'status', 'away_name', 'home_name', 'away_id', 'home_id', 'doubleheader', 'game_num', 'home_probable_pitcher', 'away_probable_pitcher', 'home_pitcher_note', 'away_pitcher_note', 'away_score', 'home_score', 'current_inning', 'inning_state', 'venue_id', 'venue_name', 'winning_team', 'losing_team', 'winning_pitcher', 'losing_pitcher', 'save_pitcher', 'summary'])\n",
    "\n",
    "('game_id', 'game_datetime', 'game_date', 'game_type', 'status', 'away_name', 'home_name', 'away_id', 'home_id', 'doubleheader', 'game_num', 'home_probable_pitcher', 'away_probable_pitcher', 'home_pitcher_note', 'away_pitcher_note', 'away_score', 'home_score', 'current_inning', 'inning_state', 'venue_id', 'venue_name', 'winning_team', 'losing_team', 'winning_pitcher', 'losing_pitcher', 'save_pitcher', 'summary')\n",
    "\n",
    "\n",
    "- [  ] check for player id\n",
    "- [  ]  connect to a player search bridge"
   ]
  },
  {
   "cell_type": "markdown",
   "metadata": {},
   "source": []
  },
  {
   "cell_type": "code",
   "execution_count": 31,
   "metadata": {},
   "outputs": [
    {
     "ename": "IndentationError",
     "evalue": "expected an indented block (2945747825.py, line 32)",
     "output_type": "error",
     "traceback": [
      "\u001b[0;36m  Input \u001b[0;32mIn [31]\u001b[0;36m\u001b[0m\n\u001b[0;31m    '''\u001b[0m\n\u001b[0m    ^\u001b[0m\n\u001b[0;31mIndentationError\u001b[0m\u001b[0;31m:\u001b[0m expected an indented block\n"
     ]
    }
   ],
   "source": [
    "\n",
    "\n",
    "\n",
    "# TODO:  Python 3.10 and higher - change to switch case from if-elif\n",
    "\n",
    "\n",
    "# dict_keys(['game_id', 'game_datetime', 'game_date', 'game_type', 'status', 'away_name', 'home_name', 'away_id', 'home_id', 'doubleheader', 'game_num', 'home_probable_pitcher', 'away_probable_pitcher', 'home_pitcher_note', 'away_pitcher_note', 'away_score', 'home_score', 'current_inning', 'inning_state', 'venue_id', 'venue_name', 'winning_team', 'losing_team', 'winning_pitcher', 'losing_pitcher', 'save_pitcher', 'summary'])\n",
    "\n",
    "# def get_date_ranges(**kwargs):\n",
    "#         # gamePK=[]\n",
    "#         for key, value in kwargs.items():\n",
    "#                 match key:\n",
    "#                         case \"start_date\":\n",
    "#                                 start_range =  value\n",
    "#                                 return start_range\n",
    "                \n",
    "#                         case _:\n",
    "#                                 pass \n",
    "\n",
    "\n",
    "#TODO: SINGLE CLASS -> CLASS SET SCHEDULE DATA\n",
    "\n",
    "# CALL: class instance with date, date ranges or team _id's\n",
    "# better with static method!! TEST!!!\n",
    "\n",
    "# 1. get schedule data   get_schedule()\n",
    "# 2. parse it                             get_schedule_keyVar\n",
    "\n",
    "# 3. access it  --> which class or function???? As decorator or class instance\n",
    "\n",
    "# if static method - doesn't need class instance\n",
    "\n",
    "\n",
    "\n",
    "\n",
    "class Test(object):\n",
    "        def __init__(self, game_date, start_date, end_date, team_id, away_id, home_id):\n",
    "                self.game_date = game_date\n",
    "                self.start_date = start_date\n",
    "                self.end_date = end_date\n",
    "                self.team_id\n",
    "        \n",
    "        @staticmethod\n",
    "        def get_schedule(**kwargs) -> tuple:\n",
    "                games_list = statsapi.schedule(start_date='05/16/2022',end_date='05/16/2022')\n",
    "                schedule_keys = tuple(games_list[0].keys())\n",
    "                return schedule_keys\n",
    "                print(f\"{schedule_keys}\")\n",
    "\n",
    "\n",
    "\n",
    "# TODO: make this in to class setter with *args adn **kwargs input\n",
    "# TODO: redo with map() and lambda function                \n",
    "def set_schedule_keyVar(*args, **kwargs):\n",
    "        \"\"\" Helper function to set data from statsapi.schedule\n",
    "        Function parameters:\n",
    "        required: *args = statsapi schedule call with date or date range\n",
    "        Can handle any key from statsapi.schedule key dict\n",
    "        \"\"\"\n",
    "        for arg in args:\n",
    "                for key, value in kwargs.items():\n",
    "                        print(key, value)\n",
    "                        if key == arg[0]:\n",
    "                                game_id = value    \n",
    "                        elif key == arg[2]:\n",
    "                                game_date = value\n",
    "                        elif key == arg[5]:\n",
    "                                away_id = value\n",
    "                        elif key == arg[6]:\n",
    "                                home_name  = value        \n",
    "                        elif key == arg[8]:\n",
    "                                home_id = value\n",
    "                        elif key == arg[7]:\n",
    "                                away_id = value\n",
    "           \n",
    "                                \n",
    "\n",
    "\n",
    "\n",
    "start_input = \"05/15/2022\"\n",
    "end_input =  \"05/17/2022\"\n",
    "home_id=\"141\"\n",
    "\n",
    "get_date_ranges(schedule_keys, start_date =start_input, end_date=end_input, home_id=home_id) \n",
    "\n",
    "\n",
    "\n",
    "\n",
    "\n"
   ]
  },
  {
   "cell_type": "code",
   "execution_count": 32,
   "metadata": {},
   "outputs": [
    {
     "name": "stdout",
     "output_type": "stream",
     "text": [
      "start_date 05/16/2022\n",
      "end_date 05/17/2022\n"
     ]
    }
   ],
   "source": [
    "# TODO: make a date checker\n",
    "\n",
    "# def get_PK(kwargs):\n",
    "#     print(kwargs)\n",
    "#     print(type(kwargs))\n",
    "#     start_date_key = kwargs['start_date']\n",
    "#     end_date_key = kwargs['end_date']\n",
    "#     print(f\"start_date: {start_date_key}, end_date_key: {end_date_key}\")\n",
    "\n",
    "\n",
    "\n",
    "def get_kwargs(**kwargs):\n",
    "    for key, value in kwargs.items():\n",
    "        print(key, value)\n",
    "        \n",
    "\n",
    "start_input = \"05/16/2022\"\n",
    "end_input =  \"05/17/2022\"\n",
    "get_kwargs(start_date =start_input, end_date=end_input)    \n",
    "\n",
    "        \n",
    "    # for key, value in kwargs.items():\n",
    "    #     start_date_key = kwargs['start_date']\n",
    "    #     end_date_key = kwargs['end_date']\n",
    "    #     print(f\"start_date: {start_date_key}, end_date_key: {end_date_key}\")\n",
    "        \n",
    "        \n",
    "# get_PK({\"start_date\": \"05/16/2022\", \"end_date\":\"05/17/2022\"})    \n",
    "        \n",
    "#     games_list = statsapi.schedule(start_date='05/16/2022',end_date='05/16/2022')\n",
    "# # print(games_list[0].keys())\n",
    "# for games in games_list:\n",
    "#     print(f\"Game id: {games['game_id']}: {games['away_name']} vs {games['home_name']}\")"
   ]
  },
  {
   "cell_type": "code",
   "execution_count": 22,
   "metadata": {},
   "outputs": [
    {
     "ename": "SyntaxError",
     "evalue": "invalid syntax (1081595017.py, line 11)",
     "output_type": "error",
     "traceback": [
      "\u001b[0;36m  Input \u001b[0;32mIn [22]\u001b[0;36m\u001b[0m\n\u001b[0;31m    def get_gamePK(**kwargs)\u001b[0m\n\u001b[0m                            ^\u001b[0m\n\u001b[0;31mSyntaxError\u001b[0m\u001b[0;31m:\u001b[0m invalid syntax\n"
     ]
    }
   ],
   "source": [
    "class bridgeStatsAPI(object):\n",
    "    def __init__(self , *args):\n",
    "        self.start_date = start_date\n",
    "        self.end_date = end_date\n",
    "        self.gamePK = _gamePK\n",
    "        # self.away_name = away_name\n",
    "        # self.home_name = home_name\n",
    "        # self.search_team = team_id\n",
    "    \n",
    "    # def get_gamePK( start_date, *args):\n",
    "    def get_gamePK(**kwargs)\n",
    "        '''\n",
    "        requires:\n",
    "        To search for gamePK (primary key)\n",
    "        start_date='MM/DD/YYYY' \n",
    "        optional:\n",
    "        end_date='MM/DD/YYYY'\n",
    "        \n",
    "        '''\n",
    "        \n",
    "        for arg in args:\n",
    "            \n",
    "        end_date = args.get(end_date)\n",
    "        print(f\"start date: {start_date}\")\n",
    "        print(end_date)\n",
    "        \n",
    " \n",
    "        # start_date, end_date = unziped_args\n",
    "        # print(start_date)\n",
    "        # print(end_date)\n",
    "        # games_list = statsapi.schedule(start_date = start_date, end_date = end_date)\n",
    "        # print(f\"Game id: {games['game_id']}: {games['away_name']} vs {games['home_name']}\")\n",
    "        # print(f\"start_date: {start_date}\")\n",
    "        # gamePK = games_list[0]['game_id']\n",
    "        # print(gamePK)"
   ]
  },
  {
   "cell_type": "code",
   "execution_count": 10,
   "metadata": {},
   "outputs": [
    {
     "ename": "NameError",
     "evalue": "name 'bridgeStatsAPI' is not defined",
     "output_type": "error",
     "traceback": [
      "\u001b[0;31m---------------------------------------------------------------------------\u001b[0m",
      "\u001b[0;31mNameError\u001b[0m                                 Traceback (most recent call last)",
      "\u001b[1;32m/Users/jb/GITHUB/RYP_github/APIs/MLBstatsapi/statsAPI_functions.ipynb Cell 8'\u001b[0m in \u001b[0;36m<cell line: 5>\u001b[0;34m()\u001b[0m\n\u001b[1;32m      <a href='vscode-notebook-cell:/Users/jb/GITHUB/RYP_github/APIs/MLBstatsapi/statsAPI_functions.ipynb#ch0000008?line=0'>1</a>\u001b[0m \u001b[39m# start_date_input = '05/16/2022'|\u001b[39;00m\n\u001b[1;32m      <a href='vscode-notebook-cell:/Users/jb/GITHUB/RYP_github/APIs/MLBstatsapi/statsAPI_functions.ipynb#ch0000008?line=1'>2</a>\u001b[0m \u001b[39m# bridgeStatsAPI.get_gamePK(start_date= start_date_input, end_date='05/16/2022')\u001b[39;00m\n\u001b[1;32m      <a href='vscode-notebook-cell:/Users/jb/GITHUB/RYP_github/APIs/MLBstatsapi/statsAPI_functions.ipynb#ch0000008?line=2'>3</a>\u001b[0m \u001b[39m# bridgeStatsAPI.get_gamePK(start_date='05/16/2022', end_date='05/16/2022')\u001b[39;00m\n\u001b[0;32m----> <a href='vscode-notebook-cell:/Users/jb/GITHUB/RYP_github/APIs/MLBstatsapi/statsAPI_functions.ipynb#ch0000008?line=4'>5</a>\u001b[0m bridgeStatsAPI\u001b[39m.\u001b[39mget_gamePK(start_date\u001b[39m=\u001b[39m\u001b[39m'\u001b[39m\u001b[39m05/16/2022\u001b[39m\u001b[39m'\u001b[39m)\n",
      "\u001b[0;31mNameError\u001b[0m: name 'bridgeStatsAPI' is not defined"
     ]
    }
   ],
   "source": [
    "# start_date_input = '05/16/2022'|\n",
    "# bridgeStatsAPI.get_gamePK(start_date= start_date_input, end_date='05/16/2022')\n",
    "# bridgeStatsAPI.get_gamePK(start_date='05/16/2022', end_date='05/16/2022')\n",
    "\n",
    "bridgeStatsAPI.get_gamePK(start_date='05/16/2022')\n"
   ]
  },
  {
   "cell_type": "code",
   "execution_count": null,
   "metadata": {},
   "outputs": [],
   "source": []
  }
 ],
 "metadata": {
  "interpreter": {
   "hash": "09869d035f101caafed549a4212ae01dfb7e83743c9a470c9f0f45b4585cc1ca"
  },
  "kernelspec": {
   "display_name": "Python 3.9.12 ('MLBstatsapi-thFTp9Gp')",
   "language": "python",
   "name": "python3"
  },
  "language_info": {
   "codemirror_mode": {
    "name": "ipython",
    "version": 3
   },
   "file_extension": ".py",
   "mimetype": "text/x-python",
   "name": "python",
   "nbconvert_exporter": "python",
   "pygments_lexer": "ipython3",
   "version": "3.9.12"
  }
 },
 "nbformat": 4,
 "nbformat_minor": 2
}
