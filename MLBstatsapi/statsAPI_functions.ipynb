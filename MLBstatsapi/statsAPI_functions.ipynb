{
 "cells": [
  {
   "cell_type": "code",
   "execution_count": 1,
   "metadata": {},
   "outputs": [],
   "source": [
    "import statsapi\n",
    "import pandas as pd\n",
    "from pprint import pprint"
   ]
  },
  {
   "cell_type": "markdown",
   "metadata": {},
   "source": [
    "#### statsapi.boxscore\n",
    "statsapi.boxscore(gamePk, battingBox=True, battingInfo=True, fieldingInfo=True, pitchingBox=True, gameInfo=True, timecode=None)"
   ]
  },
  {
   "cell_type": "markdown",
   "metadata": {},
   "source": [
    "# statsapi.schedule\n",
    "statsapi.schedule(date=None, start_date=None, end_date=None, team=\"\", opponent=\"\", sportId=1, game_id=None)\n",
    "\n",
    "dict_keys(['game_id', 'game_datetime', 'game_date', 'game_type', 'status', 'away_name', 'home_name', 'away_id', 'home_id', 'doubleheader', 'game_num', 'home_probable_pitcher', 'away_probable_pitcher', 'home_pitcher_note', 'away_pitcher_note', 'away_score', 'home_score', 'current_inning', 'inning_state', 'venue_id', 'venue_name', 'winning_team', 'losing_team', 'winning_pitcher', 'losing_pitcher', 'save_pitcher', 'summary'])\n",
    "\n"
   ]
  },
  {
   "cell_type": "markdown",
   "metadata": {},
   "source": []
  },
  {
   "cell_type": "markdown",
   "metadata": {},
   "source": []
  },
  {
   "cell_type": "markdown",
   "metadata": {},
   "source": []
  },
  {
   "cell_type": "code",
   "execution_count": 17,
   "metadata": {},
   "outputs": [
    {
     "name": "stdout",
     "output_type": "stream",
     "text": [
      "dict_keys(['game_id', 'game_datetime', 'game_date', 'game_type', 'status', 'away_name', 'home_name', 'away_id', 'home_id', 'doubleheader', 'game_num', 'home_probable_pitcher', 'away_probable_pitcher', 'home_pitcher_note', 'away_pitcher_note', 'away_score', 'home_score', 'current_inning', 'inning_state', 'venue_id', 'venue_name', 'winning_team', 'losing_team', 'winning_pitcher', 'losing_pitcher', 'save_pitcher', 'summary'])\n",
      "Game id: 661961: Detroit Tigers vs Tampa Bay Rays\n",
      "Game id: 661402: Washington Nationals vs Miami Marlins\n",
      "Game id: 661308: New York Yankees vs Baltimore Orioles\n",
      "Game id: 661794: Seattle Mariners vs Toronto Blue Jays\n",
      "Game id: 663275: Houston Astros vs Boston Red Sox\n",
      "Game id: 663151: Pittsburgh Pirates vs Chicago Cubs\n",
      "Game id: 661212: Atlanta Braves vs Milwaukee Brewers\n",
      "Game id: 661145: Los Angeles Angels vs Texas Rangers\n",
      "Game id: 662728: Chicago White Sox vs Kansas City Royals\n",
      "Game id: 663005: San Francisco Giants vs Colorado Rockies\n",
      "Game id: 662378: Minnesota Twins vs Oakland Athletics\n",
      "Game id: 662695: Arizona Diamondbacks vs Los Angeles Dodgers\n",
      "Game id: 662566: St. Louis Cardinals vs New York Mets\n"
     ]
    }
   ],
   "source": [
    "games_list = statsapi.schedule(start_date='05/16/2022',end_date='05/16/2022')\n",
    "# print(games_list[0].keys())\n",
    "for games in games_list:\n",
    "    print(f\"Game id: {games['game_id']}: {games['away_name']} vs {games['home_name']}\")"
   ]
  },
  {
   "cell_type": "code",
   "execution_count": null,
   "metadata": {},
   "outputs": [],
   "source": []
  }
 ],
 "metadata": {
  "interpreter": {
   "hash": "d86f470374f7843d9e5af2cd55a5a1c0e07acc48be67ef7b4452e54b35a7e4b2"
  },
  "kernelspec": {
   "display_name": "Python 3.10.4 ('MLBstatsapi-mE_xXRXh')",
   "language": "python",
   "name": "python3"
  },
  "language_info": {
   "codemirror_mode": {
    "name": "ipython",
    "version": 3
   },
   "file_extension": ".py",
   "mimetype": "text/x-python",
   "name": "python",
   "nbconvert_exporter": "python",
   "pygments_lexer": "ipython3",
   "version": "3.10.4"
  },
  "orig_nbformat": 4
 },
 "nbformat": 4,
 "nbformat_minor": 2
}
