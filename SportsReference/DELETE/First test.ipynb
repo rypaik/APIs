{
  "cells": [
    {
      "cell_type": "markdown",
      "metadata": {},
      "source": []
    },
    {
      "cell_type": "code",
      "execution_count": null,
      "metadata": {},
      "outputs": [],
      "source": []
    },
    {
      "cell_type": "markdown",
      "metadata": {},
      "source": []
    },
    {
      "cell_type": "code",
      "execution_count": null,
      "metadata": {},
      "outputs": [],
      "source": []
    },
    {
      "cell_type": "markdown",
      "metadata": {},
      "source": [
        "### sports-reference api\n",
        "- Ties directly into python via pip\n",
        "- includes mlb, nba, nfl, nhl\n",
        "\n",
        "\n",
        "\n",
        "### TODO:\n",
        "- [ ]  [incorporate pandas into query](https://towardsdatascience.com/sports-reference-api-intro-dbce09e89e52)\n",
        "- [ ] Buldicl a faster cache system\n",
        "- [ ] Client sided cache system\n",
        "- [ ] customized follow/update list\n",
        "\n",
        "\n",
        "\n",
        "\n",
        "\n",
        "### LINKS:\n",
        "[Sports Referemce Homepages](https://www.sports-reference.com)\n",
        "[Starting Art ](https://medium.com/clarktech-sports/python-sports-analytics-made-simple-part-2-40e591a7f3db"
      ]
    },
    {
      "cell_type": "code",
      "execution_count": null,
      "metadata": {
        "collapsed": true,
        "execution": {
          "iopub.execute_input": "2022-03-18T16:28:10.707Z",
          "iopub.status.busy": "2022-03-18T16:28:10.702Z"
        },
        "jupyter": {
          "outputs_hidden": false,
          "source_hidden": false
        },
        "nteract": {
          "transient": {
            "deleting": false
          }
        }
      },
      "outputs": [],
      "source": [
        "from sportsreference.ncaab.teams import Teams\n",
        "\n",
        "for team in Teams():\n",
        "    print(team.name, team.wins,  team.losses)\n",
        "    print(team.turnover_percentage)\n"
      ]
    },
    {
      "cell_type": "code",
      "execution_count": null,
      "metadata": {
        "collapsed": true,
        "jupyter": {
          "outputs_hidden": false,
          "source_hidden": false
        },
        "nteract": {
          "transient": {
            "deleting": false
          }
        }
      },
      "outputs": [],
      "source": [
        "for team in Teams('2018'):\n",
        "    print(team.name, team.wins, team.losses)"
      ]
    },
    {
      "cell_type": "code",
      "execution_count": null,
      "metadata": {},
      "outputs": [],
      "source": [
        "for team in Teams():\n",
        "    print(team.name)\n",
        "    print(team.dataframe)"
      ]
    },
    {
      "cell_type": "code",
      "execution_count": null,
      "metadata": {},
      "outputs": [],
      "source": [
        "from sportsreference.nfl.teams import Teams\n",
        "\n",
        "for team in Teams():\n",
        "    print(team.name)\n",
        "    schedule = team.schedule  # Request the current team's schedule\n",
        "    for game in schedule:\n",
        "        print(game.date, game.points_scored, game.points_allowed)"
      ]
    },
    {
      "cell_type": "code",
      "execution_count": null,
      "metadata": {},
      "outputs": [],
      "source": [
        "\n",
        "from sportsreference.nfl.schedule import Schedule\n",
        "\n",
        "houston_schedule = Schedule('HOU')\n",
        "print(houston_schedule.dataframe)"
      ]
    },
    {
      "cell_type": "code",
      "execution_count": null,
      "metadata": {},
      "outputs": [],
      "source": [
        "\n",
        "from sportsreference.mlb.boxscore import Boxscore\n",
        "\n",
        "game_data = Boxscore('BOS/BOS201808020')\n",
        "print(game_data.away_runs, game_data.home_runs)\n",
        "print(game_data.dataframe)"
      ]
    },
    {
      "cell_type": "code",
      "execution_count": null,
      "metadata": {},
      "outputs": [],
      "source": [
        "from sportsreference.mlb.schedule import Schedule\n",
        "\n",
        "houston_schedule = Schedule('HOU')\n",
        "for game in houston_schedule:\n",
        "    print(game.boxscore_index)  # Prints the boxscore URI for each game\n",
        "    boxscore = game.boxscore  # Returns an instance of the Boxscore class for this specific game\n"
      ]
    },
    {
      "cell_type": "code",
      "execution_count": null,
      "metadata": {},
      "outputs": [],
      "source": [
        "\n",
        "from sportsreference.nhl.roster import Player\n",
        "\n",
        "zetterberg = Player('zettehe01')\n",
        "print(zetterberg.name, zetterberg.points, zetterberg.games_played)\n",
        "print(zetterberg.dataframe)"
      ]
    },
    {
      "cell_type": "code",
      "execution_count": null,
      "metadata": {},
      "outputs": [],
      "source": [
        "from sportsreference.nhl.roster import Player\n",
        "\n",
        "zetterberg = Player('zettehe01')\n",
        "zetterberg('2017-18')\n",
        "print(zetterberg.name, zetterberg.points, zetterberg.games_played)"
      ]
    },
    {
      "cell_type": "code",
      "execution_count": null,
      "metadata": {},
      "outputs": [],
      "source": [
        "\n",
        "from sportsreference.nhl.roster import Roster\n",
        "\n",
        "detroit = Roster('DET')\n",
        "for player in detroit.players:\n",
        "    print(player.name, player.games_played)\n",
        "from sportsreference.nhl.roster import Roster\n",
        "\n",
        "detroit = Roster('DET')\n",
        "for player in detroit.players:\n",
        "    print(player.name, player.games_played)"
      ]
    },
    {
      "cell_type": "code",
      "execution_count": null,
      "metadata": {},
      "outputs": [],
      "source": [
        "from sportsreference.ncaab.teams import Teams\n",
        "\n",
        "for team in Teams():\n",
        "    print(team.name)\n",
        "    for game in schedule:\n",
        "        print('-'*80)\n",
        "        print(game.arena, game.result)\n",
        "        print(game.boxscore.away_assist_percentage,\n",
        "              game.boxscore.home_true_shooting_percentage,\n",
        "              game.boxscore.away_effective_field_goal_percentage,\n",
        "              game.boxscore.home_free_throw_attempt_rate)"
      ]
    },
    {
      "cell_type": "code",
      "execution_count": null,
      "metadata": {},
      "outputs": [],
      "source": [
        "from sportsreference.nba.teams import Teams\n",
        "\n",
        "def get_height_in_inches(height):\n",
        "    feet, inches = height.split('-')\n",
        "    return int(feet) * 12 + int(inches)\n",
        "\n",
        "def print_tallest_player(team_heights):\n",
        "    tallest_player = max(team_heights, key=team_heights.get)\n",
        "    print('%s: %s in.' % (tallest_player, team_heights[tallest_player]))\n",
        "\n",
        "for team in Teams():\n",
        "    print('=' * 80)\n",
        "    print(team.name)\n",
        "    team_heights = {}\n",
        "    for player in team.roster.players:\n",
        "        height = get_height_in_inches(player.height)\n",
        "        team_heights[player.name] = height\n",
        "    print_tallest_player(team_heights)"
      ]
    },
    {
      "cell_type": "code",
      "execution_count": null,
      "metadata": {},
      "outputs": [],
      "source": [
        "from sportsreference.mlb.teams import Teams\n",
        "\n",
        "def print_most_wins(year, wins):\n",
        "    most_wins = max(wins, key=wins.get)\n",
        "    print('%s: %s - %s' % (year, wins[most_wins], most_wins))\n",
        "\n",
        "for year in range(2000, 2019):\n",
        "    wins = {}\n",
        "    for team in Teams(year):\n",
        "        wins[team.name] = team.wins\n",
        "    print_most_wins(year, wins)\n"
      ]
    },
    {
      "cell_type": "code",
      "execution_count": null,
      "metadata": {},
      "outputs": [],
      "source": []
    }
  ],
  "metadata": {
    "interpreter": {
      "hash": "8021c56cb275dd893569337b30b405a875106aa39bddfc8c5121d6e7668f19f8"
    },
    "kernel_info": {
      "name": "python3910jvsc74a57bd07820d5683fe92bc6acbecae01f52250c44925d8affc3946a5cb82bf32033c47c"
    },
    "kernelspec": {
      "display_name": "Python 3.9.10 ('jb_mini-Zbf9S1as')",
      "language": "python",
      "name": "python3"
    },
    "language_info": {
      "codemirror_mode": {
        "name": "ipython",
        "version": 3
      },
      "file_extension": ".py",
      "mimetype": "text/x-python",
      "name": "python",
      "nbconvert_exporter": "python",
      "pygments_lexer": "ipython3",
      "version": "3.9.10"
    },
    "nteract": {
      "version": "0.28.0"
    }
  },
  "nbformat": 4,
  "nbformat_minor": 0
}
