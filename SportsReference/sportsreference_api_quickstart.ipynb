{
  "cells": [
    {
      "cell_type": "markdown",
      "metadata": {},
      "source": [
        "### Sports-Reference api\n",
        "- Ties directly into python via pip\n",
        "- includes mlb, nba, nfl, nhl\n",
        "\n",
        "\n",
        "\n",
        "### TODO:\n",
        "- [ ] Build a faster cache system\n",
        "- [ ] Client sided cache system\n",
        "- [ ] customized follow/update list\n",
        "- [ ] break into modules\n",
        "  - [ ] break down according to how to make an interactive streamlit page with session tokens\n",
        "  - [ ] incorporate module into project page\n",
        "- [ ] try to load api through postman and test\n",
        "\n",
        "### LINKS:\n",
        "[Sports Reference Homepages](https://www.sports-reference.com)\n",
        "[Sports Reference PyPi page](https://pypi.org/project/sportsreference/)\n",
        "[Sports Reference API Github Page](https://github.com/roclark/sportsipy)\n",
        "[Starting Article](https://medium.com/clarktech-sports/python-sports-analytics-made-simple-part-2-40e591a7f3db)\n",
        "[Article including Pandas](https://towardsdatascience.com/sports-reference-api-intro-dbce09e89e52)"
      ]
    },
    {
      "cell_type": "code",
      "execution_count": 2,
      "metadata": {},
      "outputs": [],
      "source": [
        "# IMPORTS\n",
        "# basketball\n",
        "from sportsreference.ncaab.teams import Teams\n",
        "\n",
        "import pandas as pd"
      ]
    },
    {
      "cell_type": "code",
      "execution_count": 3,
      "metadata": {},
      "outputs": [
        {
          "name": "stdout",
          "output_type": "stream",
          "text": [
            "['__call__', '__class__', '__delattr__', '__dict__', '__dir__', '__doc__', '__eq__', '__format__', '__ge__', '__getattribute__', '__getitem__', '__gt__', '__hash__', '__init__', '__init_subclass__', '__iter__', '__le__', '__len__', '__lt__', '__module__', '__ne__', '__new__', '__reduce__', '__reduce_ex__', '__repr__', '__setattr__', '__sizeof__', '__str__', '__subclasshook__', '__weakref__', '_add_stats_data', '_conferences_dict', '_retrieve_all_teams', '_teams', 'dataframes']\n",
            "<class 'sportsreference.ncaab.teams.Teams'>\n",
            "0x117dc21c0\n",
            "['abbreviation', 'assist_percentage', 'assists', 'away_losses', 'away_wins', 'block_percentage', 'blocks', 'conference', 'conference_losses', 'conference_wins', 'defensive_rebounds', 'effective_field_goal_percentage', 'field_goal_attempts', 'field_goal_percentage', 'field_goals', 'free_throw_attempt_rate', 'free_throw_attempts', 'free_throw_percentage', 'free_throws', 'free_throws_per_field_goal_attempt', 'games_played', 'home_losses', 'home_wins', 'losses', 'minutes_played', 'name', 'net_rating', 'offensive_rating', 'offensive_rebound_percentage', 'offensive_rebounds', 'opp_assist_percentage', 'opp_assists', 'opp_block_percentage', 'opp_blocks', 'opp_defensive_rebounds', 'opp_effective_field_goal_percentage', 'opp_field_goal_attempts', 'opp_field_goal_percentage', 'opp_field_goals', 'opp_free_throw_attempt_rate', 'opp_free_throw_attempts', 'opp_free_throw_percentage', 'opp_free_throws', 'opp_free_throws_per_field_goal_attempt', 'opp_offensive_rating', 'opp_offensive_rebound_percentage', 'opp_offensive_rebounds', 'opp_personal_fouls', 'opp_points', 'opp_steal_percentage', 'opp_steals', 'opp_three_point_attempt_rate', 'opp_three_point_field_goal_attempts', 'opp_three_point_field_goal_percentage', 'opp_three_point_field_goals', 'opp_two_point_field_goal_attempts', 'opp_two_point_field_goal_percentage', 'opp_two_point_field_goals', 'opp_total_rebound_percentage', 'opp_total_rebounds', 'opp_true_shooting_percentage', 'opp_turnover_percentage', 'opp_turnovers', 'pace', 'personal_fouls', 'points', 'simple_rating_system', 'steal_percentage', 'steals', 'strength_of_schedule', 'three_point_attempt_rate', 'three_point_field_goal_attempts', 'three_point_field_goal_percentage', 'three_point_field_goals', 'two_point_field_goal_attempts', 'two_point_field_goal_percentage', 'two_point_field_goals', 'total_rebound_percentage', 'total_rebounds', 'true_shooting_percentage', 'turnover_percentage', 'turnovers', 'win_percentage', 'wins']\n"
          ]
        }
      ],
      "source": [
        "teams2020 = Teams(year='2020')\n",
        "print(dir(teams2020))\n",
        "print(type(teams2020))\n",
        "print(hex(id(teams2020)))\n",
        "print(list(teams2020.dataframes))\n"
      ]
    },
    {
      "cell_type": "code",
      "execution_count": null,
      "metadata": {},
      "outputs": [],
      "source": [
        "# swithching Teams to baseball\n",
        "from sportsreference.mlb.teams import Teams\n",
        "\n",
        "teams2020 = Teams(year='2020')\n",
        "print(dir(teams2020))\n",
        "print(type(teams2020))\n",
        "print(hex(id(teams2020)))\n",
        "pd = teams2020.dataframes\n",
        "list(pd)"
      ]
    },
    {
      "cell_type": "code",
      "execution_count": null,
      "metadata": {
        "collapsed": true,
        "execution": {
          "iopub.execute_input": "2022-03-18T16:28:10.707Z",
          "iopub.status.busy": "2022-03-18T16:28:10.702Z"
        },
        "jupyter": {
          "outputs_hidden": false,
          "source_hidden": false
        },
        "nteract": {
          "transient": {
            "deleting": false
          }
        }
      },
      "outputs": [],
      "source": [
        "# NCAA bastketball\n",
        "from sportsreference.ncaab.teams import Teams\n",
        "\n",
        "for ncaa_hoops_team in Teams():\n",
        "    print(ncaa_hoops_team.name, ncaa_hoops_team.wins, ncaa_hoops_team.losses)\n",
        "    print(f\"Turnover Percentage: {ncaa_hoops_team.turnover_percentage}%\")\n"
      ]
    },
    {
      "cell_type": "code",
      "execution_count": null,
      "metadata": {
        "collapsed": true,
        "jupyter": {
          "outputs_hidden": false,
          "source_hidden": false
        },
        "nteract": {
          "transient": {
            "deleting": false
          }
        }
      },
      "outputs": [],
      "source": [
        "for ncaa_hoops_team in Teams('2018'):\n",
        "    print(ncaa_hoops_team.name, ncaa_hoops_team.wins, ncaa_hoops_team.losses)"
      ]
    },
    {
      "cell_type": "code",
      "execution_count": null,
      "metadata": {},
      "outputs": [],
      "source": [
        "print(type(ncaa_hoops_team))\n",
        "print(list(ncaa_hoops_team.dataframe))\n",
        "# print(list(ncaa_hoops_team.dataframe.columns))\n",
        "\n",
        "for ncaa_hoops_team in Teams():\n",
        "    print(ncaa_hoops_team.name)\n",
        "    print(ncaa_hoops_team.dataframe)"
      ]
    },
    {
      "cell_type": "code",
      "execution_count": null,
      "metadata": {},
      "outputs": [],
      "source": [
        "from sportsreference.nfl.teams import Teams\n",
        "\n",
        "for team in Teams():\n",
        "    print(team.name)\n",
        "    schedule = team.schedule  # Request the current team's schedule\n",
        "    for game in schedule:\n",
        "        print(game.date, game.points_scored, game.points_allowed)"
      ]
    },
    {
      "cell_type": "markdown",
      "metadata": {},
      "source": [
        "------\n",
        "## SCHEDULES"
      ]
    },
    {
      "cell_type": "code",
      "execution_count": null,
      "metadata": {},
      "outputs": [],
      "source": [
        "\n",
        "from sportsreference.nfl.schedule import Schedule\n",
        "\n",
        "houston_schedule = Schedule('HOU')\n",
        "print(houston_schedule.dataframe)"
      ]
    },
    {
      "cell_type": "markdown",
      "metadata": {},
      "source": [
        "---------\n",
        "## BOXSCORE\n",
        "URI of BOS/BOS20180808020 by navigating to sports-reference.com and selecting a game played on August 2, 2018 between the Boston Red Sox and the New York Yankees. The URL for this specific game is the following: https://www.baseball-reference.com/boxes/BOS/BOS201808020.shtml. As you can probably tell, the URI I need is everything between \"boxes/\" and \".shtml\""
      ]
    },
    {
      "cell_type": "code",
      "execution_count": null,
      "metadata": {},
      "outputs": [],
      "source": [
        "\n",
        "from sportsreference.mlb.boxscore import Boxscore\n",
        "\n",
        "game_data = Boxscore('BOS/BOS201808020')\n",
        "print(game_data.away_runs, game_data.home_runs)\n",
        "print(game_data.dataframe)"
      ]
    },
    {
      "cell_type": "code",
      "execution_count": null,
      "metadata": {},
      "outputs": [],
      "source": [
        "from sportsreference.mlb.schedule import Schedule\n",
        "\n",
        "houston_schedule = Schedule('HOU')\n",
        "for game in houston_schedule:\n",
        "    print(game.boxscore_index)  # Prints the boxscore URI for each game\n",
        "    boxscore = game.boxscore  # Returns an instance of the Boxscore class for this specific game\n"
      ]
    },
    {
      "cell_type": "markdown",
      "metadata": {},
      "source": [
        "-----\n",
        "## ROSTER - Player"
      ]
    },
    {
      "cell_type": "code",
      "execution_count": null,
      "metadata": {},
      "outputs": [],
      "source": [
        "\n",
        "from sportsreference.nhl.roster import Player\n",
        "\n",
        "zetterberg = Player('zettehe01')\n",
        "print(zetterberg.name, zetterberg.points, zetterberg.games_played)\n",
        "print(zetterberg.dataframe)"
      ]
    },
    {
      "cell_type": "code",
      "execution_count": null,
      "metadata": {},
      "outputs": [],
      "source": [
        "from sportsreference.nhl.roster import Player\n",
        "\n",
        "zetterberg = Player('zettehe01')\n",
        "zetterberg('2017-18')\n",
        "print(zetterberg.name, zetterberg.points, zetterberg.games_played)"
      ]
    },
    {
      "cell_type": "code",
      "execution_count": null,
      "metadata": {},
      "outputs": [],
      "source": [
        "\n",
        "from sportsreference.nhl.roster import Roster\n",
        "\n",
        "detroit = Roster('DET')\n",
        "for player in detroit.players:\n",
        "    print(player.name, player.games_played)\n",
        "from sportsreference.nhl.roster import Roster\n",
        "\n"
      ]
    },
    {
      "cell_type": "markdown",
      "metadata": {},
      "source": [
        "--------\n",
        "## EXTENDING Sportsreference"
      ]
    },
    {
      "cell_type": "code",
      "execution_count": null,
      "metadata": {},
      "outputs": [],
      "source": [
        "from sportsreference.ncaab.teams import Teams\n",
        "\n",
        "for team in Teams():\n",
        "    print(team.name)\n",
        "    for game in schedule:\n",
        "        print('-'*80)\n",
        "        print(game.arena, game.result)\n",
        "        print(game.boxscore.away_assist_percentage,\n",
        "              game.boxscore.home_true_shooting_percentage,\n",
        "              game.boxscore.away_effective_field_goal_percentage,\n",
        "              game.boxscore.home_free_throw_attempt_rate)"
      ]
    },
    {
      "cell_type": "code",
      "execution_count": null,
      "metadata": {},
      "outputs": [],
      "source": [
        "from sportsreference.nba.teams import Teams\n",
        "\n",
        "def get_height_in_inches(height):\n",
        "    feet, inches = height.split('-')\n",
        "    return int(feet) * 12 + int(inches)\n",
        "\n",
        "def print_tallest_player(team_heights):\n",
        "    tallest_player = max(team_heights, key=team_heights.get)\n",
        "    print('%s: %s in.' % (tallest_player, team_heights[tallest_player]))\n",
        "\n",
        "for team in Teams():\n",
        "    print('=' * 80)\n",
        "    print(team.name)\n",
        "    team_heights = {}\n",
        "    for player in team.roster.players:\n",
        "        height = get_height_in_inches(player.height)\n",
        "        team_heights[player.name] = height\n",
        "    print_tallest_player(team_heights)"
      ]
    },
    {
      "cell_type": "code",
      "execution_count": null,
      "metadata": {},
      "outputs": [],
      "source": [
        "from sportsreference.mlb.teams import Teams\n",
        "\n",
        "def print_most_wins(year, wins):\n",
        "    most_wins = max(wins, key=wins.get)\n",
        "    print('%s: %s - %s' % (year, wins[most_wins], most_wins))\n",
        "\n",
        "for year in range(2000, 2019):\n",
        "    wins = {}\n",
        "    for team in Teams(year):\n",
        "        wins[team.name] = team.wins\n",
        "    print_most_wins(year, wins)\n"
      ]
    },
    {
      "cell_type": "code",
      "execution_count": null,
      "metadata": {},
      "outputs": [],
      "source": []
    }
  ],
  "metadata": {
    "interpreter": {
      "hash": "8021c56cb275dd893569337b30b405a875106aa39bddfc8c5121d6e7668f19f8"
    },
    "kernel_info": {
      "name": "python3910jvsc74a57bd07820d5683fe92bc6acbecae01f52250c44925d8affc3946a5cb82bf32033c47c"
    },
    "kernelspec": {
      "display_name": "Python 3.9.10 ('jb_mini-Zbf9S1as')",
      "language": "python",
      "name": "python3"
    },
    "language_info": {
      "codemirror_mode": {
        "name": "ipython",
        "version": 3
      },
      "file_extension": ".py",
      "mimetype": "text/x-python",
      "name": "python",
      "nbconvert_exporter": "python",
      "pygments_lexer": "ipython3",
      "version": "3.9.10"
    },
    "nteract": {
      "version": "0.28.0"
    }
  },
  "nbformat": 4,
  "nbformat_minor": 0
}
